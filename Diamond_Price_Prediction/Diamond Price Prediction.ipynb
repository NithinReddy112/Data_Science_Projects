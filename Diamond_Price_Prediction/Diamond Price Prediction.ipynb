{
 "cells": [
  {
   "cell_type": "markdown",
   "id": "c647bf8c-cd83-4c24-9e7d-fff4753bc97e",
   "metadata": {},
   "source": [
    "# **Case Study - Diamond Price Prediction**\n",
    "\n",
    "### **Business Understanding**\n",
    "\n",
    "Diamond is one of the strongest and the most valuable substances produced naturally as a form of carbon. However, unlike gold and silver, determining the price of a diamond is very complex because many features are to be considered for determining its price.\n",
    "\n",
    "The value of diamonds depends upon their structure, cut, inclusions (impurity), carats, and many other features. The uses of diamonds are many, such as in industries, as they are effective in cutting, polishing, and drilling. Since diamonds are extremely valuable, they have been traded across different countries for centuries now and this trade only increases with time. They are graded and certified based on the \"four Cs\", which are color, cut, clarity, and carat. These are the only metrics that are being used to the quality of diamonds and sets the price of the diamond. This metric allows uniform understanding for people across the world to buy diamonds, which allows ease of trade and value for what is purchased.\n",
    "\n",
    "### **Understanding the 4 C's**\n",
    "- Cut\n",
    "- Color\n",
    "- Clarity\n",
    "- Carat\n",
    "\n",
    "Credits - https://www.brides.com/story/choosing-engagement-ring-four-cs\n",
    "\n",
    "\n",
    "### **Problem Statement**\n",
    "**Build a system which can take features of diamond like carat, cut, color, clarity, x, y, z, etc.. and predicts the `price` of diamond.**\n",
    "\n"
   ]
  },
  {
   "cell_type": "markdown",
   "id": "7e428cca-faa9-4526-ae9a-6a0afd419bdd",
   "metadata": {},
   "source": [
    "## **Import the required Libraries**"
   ]
  },
  {
   "cell_type": "code",
   "execution_count": 1,
   "id": "eac62bd9-326c-459f-9299-7fd9b8619769",
   "metadata": {},
   "outputs": [],
   "source": [
    "import numpy as np\n",
    "import pandas as pd\n",
    "\n",
    "import matplotlib.pyplot as plt\n",
    "import seaborn as sns"
   ]
  },
  {
   "cell_type": "markdown",
   "id": "ec7f36ab-e492-4318-8e17-df87beb8ba79",
   "metadata": {},
   "source": [
    "## **Step 1 - Load the Data**"
   ]
  },
  {
   "cell_type": "code",
   "execution_count": 2,
   "id": "3083f06d-ccd9-4f74-9eb5-415fe64412a5",
   "metadata": {},
   "outputs": [
    {
     "data": {
      "text/html": [
       "<div>\n",
       "<style scoped>\n",
       "    .dataframe tbody tr th:only-of-type {\n",
       "        vertical-align: middle;\n",
       "    }\n",
       "\n",
       "    .dataframe tbody tr th {\n",
       "        vertical-align: top;\n",
       "    }\n",
       "\n",
       "    .dataframe thead th {\n",
       "        text-align: right;\n",
       "    }\n",
       "</style>\n",
       "<table border=\"1\" class=\"dataframe\">\n",
       "  <thead>\n",
       "    <tr style=\"text-align: right;\">\n",
       "      <th></th>\n",
       "      <th>carat</th>\n",
       "      <th>cut</th>\n",
       "      <th>color</th>\n",
       "      <th>clarity</th>\n",
       "      <th>depth</th>\n",
       "      <th>table</th>\n",
       "      <th>price</th>\n",
       "      <th>x</th>\n",
       "      <th>y</th>\n",
       "      <th>z</th>\n",
       "    </tr>\n",
       "  </thead>\n",
       "  <tbody>\n",
       "    <tr>\n",
       "      <th>0</th>\n",
       "      <td>0.23</td>\n",
       "      <td>Ideal</td>\n",
       "      <td>E</td>\n",
       "      <td>SI2</td>\n",
       "      <td>61.5</td>\n",
       "      <td>55.0</td>\n",
       "      <td>326</td>\n",
       "      <td>3.95</td>\n",
       "      <td>3.98</td>\n",
       "      <td>2.43</td>\n",
       "    </tr>\n",
       "    <tr>\n",
       "      <th>1</th>\n",
       "      <td>0.21</td>\n",
       "      <td>Premium</td>\n",
       "      <td>E</td>\n",
       "      <td>SI1</td>\n",
       "      <td>59.8</td>\n",
       "      <td>61.0</td>\n",
       "      <td>326</td>\n",
       "      <td>3.89</td>\n",
       "      <td>3.84</td>\n",
       "      <td>2.31</td>\n",
       "    </tr>\n",
       "    <tr>\n",
       "      <th>2</th>\n",
       "      <td>0.23</td>\n",
       "      <td>Good</td>\n",
       "      <td>E</td>\n",
       "      <td>VS1</td>\n",
       "      <td>56.9</td>\n",
       "      <td>65.0</td>\n",
       "      <td>327</td>\n",
       "      <td>4.05</td>\n",
       "      <td>4.07</td>\n",
       "      <td>2.31</td>\n",
       "    </tr>\n",
       "    <tr>\n",
       "      <th>3</th>\n",
       "      <td>0.29</td>\n",
       "      <td>Premium</td>\n",
       "      <td>I</td>\n",
       "      <td>VS2</td>\n",
       "      <td>62.4</td>\n",
       "      <td>58.0</td>\n",
       "      <td>334</td>\n",
       "      <td>4.20</td>\n",
       "      <td>4.23</td>\n",
       "      <td>2.63</td>\n",
       "    </tr>\n",
       "    <tr>\n",
       "      <th>4</th>\n",
       "      <td>0.31</td>\n",
       "      <td>Good</td>\n",
       "      <td>J</td>\n",
       "      <td>SI2</td>\n",
       "      <td>63.3</td>\n",
       "      <td>58.0</td>\n",
       "      <td>335</td>\n",
       "      <td>4.34</td>\n",
       "      <td>4.35</td>\n",
       "      <td>2.75</td>\n",
       "    </tr>\n",
       "    <tr>\n",
       "      <th>5</th>\n",
       "      <td>0.24</td>\n",
       "      <td>Very Good</td>\n",
       "      <td>J</td>\n",
       "      <td>VVS2</td>\n",
       "      <td>62.8</td>\n",
       "      <td>57.0</td>\n",
       "      <td>336</td>\n",
       "      <td>3.94</td>\n",
       "      <td>3.96</td>\n",
       "      <td>2.48</td>\n",
       "    </tr>\n",
       "    <tr>\n",
       "      <th>6</th>\n",
       "      <td>0.24</td>\n",
       "      <td>Very Good</td>\n",
       "      <td>I</td>\n",
       "      <td>VVS1</td>\n",
       "      <td>62.3</td>\n",
       "      <td>57.0</td>\n",
       "      <td>336</td>\n",
       "      <td>3.95</td>\n",
       "      <td>3.98</td>\n",
       "      <td>2.47</td>\n",
       "    </tr>\n",
       "    <tr>\n",
       "      <th>7</th>\n",
       "      <td>0.26</td>\n",
       "      <td>Very Good</td>\n",
       "      <td>H</td>\n",
       "      <td>SI1</td>\n",
       "      <td>61.9</td>\n",
       "      <td>55.0</td>\n",
       "      <td>337</td>\n",
       "      <td>4.07</td>\n",
       "      <td>4.11</td>\n",
       "      <td>2.53</td>\n",
       "    </tr>\n",
       "    <tr>\n",
       "      <th>8</th>\n",
       "      <td>0.22</td>\n",
       "      <td>Fair</td>\n",
       "      <td>E</td>\n",
       "      <td>VS2</td>\n",
       "      <td>65.1</td>\n",
       "      <td>61.0</td>\n",
       "      <td>337</td>\n",
       "      <td>3.87</td>\n",
       "      <td>3.78</td>\n",
       "      <td>2.49</td>\n",
       "    </tr>\n",
       "    <tr>\n",
       "      <th>9</th>\n",
       "      <td>0.23</td>\n",
       "      <td>Very Good</td>\n",
       "      <td>H</td>\n",
       "      <td>VS1</td>\n",
       "      <td>59.4</td>\n",
       "      <td>61.0</td>\n",
       "      <td>338</td>\n",
       "      <td>4.00</td>\n",
       "      <td>4.05</td>\n",
       "      <td>2.39</td>\n",
       "    </tr>\n",
       "  </tbody>\n",
       "</table>\n",
       "</div>"
      ],
      "text/plain": [
       "   carat        cut color clarity  depth  table  price     x     y     z\n",
       "0   0.23      Ideal     E     SI2   61.5   55.0    326  3.95  3.98  2.43\n",
       "1   0.21    Premium     E     SI1   59.8   61.0    326  3.89  3.84  2.31\n",
       "2   0.23       Good     E     VS1   56.9   65.0    327  4.05  4.07  2.31\n",
       "3   0.29    Premium     I     VS2   62.4   58.0    334  4.20  4.23  2.63\n",
       "4   0.31       Good     J     SI2   63.3   58.0    335  4.34  4.35  2.75\n",
       "5   0.24  Very Good     J    VVS2   62.8   57.0    336  3.94  3.96  2.48\n",
       "6   0.24  Very Good     I    VVS1   62.3   57.0    336  3.95  3.98  2.47\n",
       "7   0.26  Very Good     H     SI1   61.9   55.0    337  4.07  4.11  2.53\n",
       "8   0.22       Fair     E     VS2   65.1   61.0    337  3.87  3.78  2.49\n",
       "9   0.23  Very Good     H     VS1   59.4   61.0    338  4.00  4.05  2.39"
      ]
     },
     "execution_count": 2,
     "metadata": {},
     "output_type": "execute_result"
    }
   ],
   "source": [
    "df = pd.read_csv('/Users/pc/#/Projects/Diamond Price Prediction/diamonds.csv')\n",
    "\n",
    "df.head(10)"
   ]
  },
  {
   "cell_type": "markdown",
   "id": "929382b3-04bf-4a16-93d3-cdb620666f4b",
   "metadata": {},
   "source": [
    "## Data Description\n",
    "Kindly find the data description for the features below:\n",
    "\n",
    "| Feature | Description |\n",
    "| :---: | :--- | \n",
    "| **price** | price in US dollars `($ 326 - $ 18,823)` |\n",
    "| **carat** | weight of the diamond `(0.2 - 5.01)` |\n",
    "| **cut** | quality of the cut `(Fair, Good, Very Good, Premium, Ideal)` |\n",
    "| **color** | diamond colour, `(J (worst) to D (best))` |\n",
    "| **clarity** | a measurement of how clear the diamond is `(I1 (worst), SI2, SI1, VS2, VS1, VVS2, VVS1, IF (best))` |\n",
    "| **x** | length in mm `(0 - 10.74)` |\n",
    "| **y** | width in mm `(0 - 58.9)` |\n",
    "| **z** | depth in mm `(0 - 31.8)` |\n",
    "| **depth** | total depth percentage = z / mean(x, y) = 2 * z / (x + y) `(43 - 79)` |\n",
    "| **table** | width of top of diamond relative to widest point `(43 - 95)` |"
   ]
  },
  {
   "cell_type": "markdown",
   "id": "ae107fc6-cc97-44dc-9b1a-db67fa6c6467",
   "metadata": {},
   "source": [
    "## **Step 2 - Exploratory Data Analysis**"
   ]
  },
  {
   "cell_type": "code",
   "execution_count": 3,
   "id": "7eb2c359-b8eb-4df6-b708-ebd24bda4ff2",
   "metadata": {},
   "outputs": [
    {
     "data": {
      "text/plain": [
       "(53940, 10)"
      ]
     },
     "execution_count": 3,
     "metadata": {},
     "output_type": "execute_result"
    }
   ],
   "source": [
    "df.shape"
   ]
  },
  {
   "cell_type": "code",
   "execution_count": 4,
   "id": "c3c2010f-7447-4aec-810b-8c1448ef18ae",
   "metadata": {},
   "outputs": [
    {
     "data": {
      "text/plain": [
       "Index(['carat', 'cut', 'color', 'clarity', 'depth', 'table', 'price', 'x', 'y',\n",
       "       'z'],\n",
       "      dtype='object')"
      ]
     },
     "execution_count": 4,
     "metadata": {},
     "output_type": "execute_result"
    }
   ],
   "source": [
    "df.columns"
   ]
  },
  {
   "cell_type": "code",
   "execution_count": 5,
   "id": "d1cb086e-7a4f-4e48-bd6d-b5cc7a6257df",
   "metadata": {},
   "outputs": [
    {
     "name": "stdout",
     "output_type": "stream",
     "text": [
      "<class 'pandas.core.frame.DataFrame'>\n",
      "RangeIndex: 53940 entries, 0 to 53939\n",
      "Data columns (total 10 columns):\n",
      " #   Column   Non-Null Count  Dtype  \n",
      "---  ------   --------------  -----  \n",
      " 0   carat    53940 non-null  float64\n",
      " 1   cut      53940 non-null  object \n",
      " 2   color    53940 non-null  object \n",
      " 3   clarity  53940 non-null  object \n",
      " 4   depth    53940 non-null  float64\n",
      " 5   table    53940 non-null  float64\n",
      " 6   price    53940 non-null  int64  \n",
      " 7   x        53940 non-null  float64\n",
      " 8   y        53940 non-null  float64\n",
      " 9   z        53940 non-null  float64\n",
      "dtypes: float64(6), int64(1), object(3)\n",
      "memory usage: 4.1+ MB\n"
     ]
    }
   ],
   "source": [
    "df.info()"
   ]
  },
  {
   "cell_type": "code",
   "execution_count": 50,
   "id": "f2cab071",
   "metadata": {},
   "outputs": [
    {
     "data": {
      "text/plain": [
       "cut\n",
       "Ideal        21551\n",
       "Premium      13791\n",
       "Very Good    12082\n",
       "Good          4906\n",
       "Fair          1610\n",
       "Name: count, dtype: int64"
      ]
     },
     "execution_count": 50,
     "metadata": {},
     "output_type": "execute_result"
    }
   ],
   "source": [
    "df['cut'].value_counts()"
   ]
  },
  {
   "cell_type": "code",
   "execution_count": 51,
   "id": "05dd22c5",
   "metadata": {},
   "outputs": [
    {
     "data": {
      "text/plain": [
       "color\n",
       "G    11292\n",
       "E     9797\n",
       "F     9542\n",
       "H     8304\n",
       "D     6775\n",
       "I     5422\n",
       "J     2808\n",
       "Name: count, dtype: int64"
      ]
     },
     "execution_count": 51,
     "metadata": {},
     "output_type": "execute_result"
    }
   ],
   "source": [
    "df['color'].value_counts()"
   ]
  },
  {
   "cell_type": "code",
   "execution_count": 52,
   "id": "82014404",
   "metadata": {},
   "outputs": [
    {
     "data": {
      "text/plain": [
       "clarity\n",
       "SI1     13065\n",
       "VS2     12258\n",
       "SI2      9194\n",
       "VS1      8171\n",
       "VVS2     5066\n",
       "VVS1     3655\n",
       "IF       1790\n",
       "I1        741\n",
       "Name: count, dtype: int64"
      ]
     },
     "execution_count": 52,
     "metadata": {},
     "output_type": "execute_result"
    }
   ],
   "source": [
    "df['clarity'].value_counts()"
   ]
  },
  {
   "cell_type": "code",
   "execution_count": 6,
   "id": "ff28a3ec-467c-4524-bf22-04651dbeefc2",
   "metadata": {},
   "outputs": [
    {
     "data": {
      "text/plain": [
       "<Axes: title={'center': 'Clarity'}, xlabel='clarity', ylabel='count'>"
      ]
     },
     "execution_count": 6,
     "metadata": {},
     "output_type": "execute_result"
    },
    {
     "data": {
      "image/png": "[encoded data removed]",
      "text/plain": [
       "<Figure size 1200x300 with 3 Axes>"
      ]
     },
     "metadata": {},
     "output_type": "display_data"
    }
   ],
   "source": [
    "# Univariate - Categorical Analysis\n",
    "\n",
    "fig, axs = plt.subplots(1, 3, figsize=(12, 3), constrained_layout=True)\n",
    "fig.suptitle(\"Univariate Plotting - Categorical Features\")\n",
    "\n",
    "axs[0].set_title(\"Cut\")\n",
    "sns.countplot(data=df, x='cut', ax=axs[0])\n",
    "\n",
    "axs[1].set_title(\"Color\")\n",
    "sns.countplot(data=df, x='color', ax=axs[1])\n",
    "\n",
    "axs[2].set_title(\"Clarity\")\n",
    "sns.countplot(data=df, x='clarity', ax=axs[2])"
   ]
  },
  {
   "cell_type": "markdown",
   "id": "0f7e4bb0",
   "metadata": {},
   "source": [
    "* It looks like Fair Category(1610) in Cut column is insignificant/infrequent\n",
    "* It looks like J Category(2808) in Color column is insignificant\n",
    "* It looks like I1(741) and IF(1790) Categories in Clarity are infrequent"
   ]
  },
  {
   "cell_type": "code",
   "execution_count": 45,
   "id": "592ea22a-fb05-4f6b-9271-c670ade50b68",
   "metadata": {},
   "outputs": [
    {
     "data": {
      "image/png": "[encoded data removed]",
      "text/plain": [
       "<Figure size 1000x300 with 3 Axes>"
      ]
     },
     "metadata": {},
     "output_type": "display_data"
    }
   ],
   "source": [
    "# Bivariate - Categorical vs Numerical Analysis\n",
    "\n",
    "fig, axs = plt.subplots(1, 3, figsize=(10, 3), constrained_layout=True)\n",
    "fig.suptitle(\"Categorical vs Numerical Feature Visualization with Seaborn\")\n",
    "\n",
    "axs[0].set_title(\"Cut vs Price\")\n",
    "sns.boxplot(data=df, x='price', y='cut', ax=axs[0])\n",
    "\n",
    "axs[1].set_title(\"Color vs Price\")\n",
    "sns.boxplot(data=df, x='price', y='color', ax=axs[1])\n",
    "\n",
    "axs[2].set_title(\"Clarity vs Price\")\n",
    "sns.boxplot(data=df, x='price', y='clarity', ax=axs[2])\n",
    "\n",
    "plt.show()"
   ]
  },
  {
   "cell_type": "markdown",
   "id": "33610944",
   "metadata": {},
   "source": [
    "* Better cut diamonds (Ideal, Premium) tend to have higher median prices and wider price ranges than lower-quality cuts.\n",
    "* Color has some effect on diamond pricing, but the relationship is weaker compared to cut.\n",
    "* Clarity strongly affects pricing, with higher clarity diamonds (e.g., VVS1, IF) having higher median prices and a broader range of values."
   ]
  },
  {
   "cell_type": "code",
   "execution_count": 8,
   "id": "1655f8de-5e39-4a3b-9378-9a72c1691eaf",
   "metadata": {},
   "outputs": [
    {
     "name": "stderr",
     "output_type": "stream",
     "text": [
      "/opt/anaconda3/lib/python3.11/site-packages/seaborn/_oldcore.py:1119: FutureWarning: use_inf_as_na option is deprecated and will be removed in a future version. Convert inf values to NaN before operating instead.\n",
      "  with pd.option_context('mode.use_inf_as_na', True):\n",
      "/opt/anaconda3/lib/python3.11/site-packages/seaborn/_oldcore.py:1119: FutureWarning: use_inf_as_na option is deprecated and will be removed in a future version. Convert inf values to NaN before operating instead.\n",
      "  with pd.option_context('mode.use_inf_as_na', True):\n",
      "/opt/anaconda3/lib/python3.11/site-packages/seaborn/_oldcore.py:1119: FutureWarning: use_inf_as_na option is deprecated and will be removed in a future version. Convert inf values to NaN before operating instead.\n",
      "  with pd.option_context('mode.use_inf_as_na', True):\n"
     ]
    },
    {
     "data": {
      "text/plain": [
       "<Axes: title={'center': 'Table'}, xlabel='table', ylabel='Count'>"
      ]
     },
     "execution_count": 8,
     "metadata": {},
     "output_type": "execute_result"
    },
    {
     "data": {
      "image/png": "[encoded data removed]",
      "text/plain": [
       "<Figure size 1200x300 with 3 Axes>"
      ]
     },
     "metadata": {},
     "output_type": "display_data"
    }
   ],
   "source": [
    "# Univariate - Numerical Analysis\n",
    "\n",
    "fig, axs = plt.subplots(1, 3, figsize=(12, 3), constrained_layout=True)\n",
    "fig.suptitle(\"Univariate Plotting - Numerical Features\")\n",
    "\n",
    "axs[0].set_title(\"Carat\")\n",
    "sns.histplot(data=df, x='carat', ax=axs[0])\n",
    "\n",
    "axs[1].set_title(\"Depth\")\n",
    "sns.histplot(data=df, x='depth', ax=axs[1])\n",
    "\n",
    "axs[2].set_title(\"Table\")\n",
    "sns.histplot(data=df, x='table', ax=axs[2])"
   ]
  },
  {
   "cell_type": "markdown",
   "id": "394da935",
   "metadata": {},
   "source": [
    "* It looks like depth follows Normal Distribution, I can't say by looking at its shape, I have to do some checks"
   ]
  },
  {
   "cell_type": "code",
   "execution_count": 9,
   "id": "28638a66-1de4-42bc-9aee-bea7686f46a4",
   "metadata": {},
   "outputs": [
    {
     "data": {
      "text/plain": [
       "<seaborn.axisgrid.PairGrid at 0x13fc02950>"
      ]
     },
     "execution_count": 9,
     "metadata": {},
     "output_type": "execute_result"
    },
    {
     "data": {
      "image/png": "[encoded data removed]",
      "text/plain": [
       "<Figure size 750x250 with 3 Axes>"
      ]
     },
     "metadata": {},
     "output_type": "display_data"
    }
   ],
   "source": [
    "# Bivariate - Numerical vs Numerical Analysis\n",
    "\n",
    "sns.pairplot(data=df,\n",
    "           x_vars=['carat', 'depth', 'table'],\n",
    "           y_vars='price')"
   ]
  },
  {
   "cell_type": "markdown",
   "id": "db18537c",
   "metadata": {},
   "source": [
    "* Carat weight is the strongest predictor of price among these variables.\n",
    "* Depth and table don’t have a noticeable linear or non-linear relationship with price."
   ]
  },
  {
   "cell_type": "code",
   "execution_count": 10,
   "id": "987e61b3-8e9b-4cd8-a860-4b9afd5de484",
   "metadata": {},
   "outputs": [
    {
     "name": "stderr",
     "output_type": "stream",
     "text": [
      "/opt/anaconda3/lib/python3.11/site-packages/seaborn/_oldcore.py:1119: FutureWarning: use_inf_as_na option is deprecated and will be removed in a future version. Convert inf values to NaN before operating instead.\n",
      "  with pd.option_context('mode.use_inf_as_na', True):\n",
      "/opt/anaconda3/lib/python3.11/site-packages/seaborn/_oldcore.py:1119: FutureWarning: use_inf_as_na option is deprecated and will be removed in a future version. Convert inf values to NaN before operating instead.\n",
      "  with pd.option_context('mode.use_inf_as_na', True):\n",
      "/opt/anaconda3/lib/python3.11/site-packages/seaborn/_oldcore.py:1119: FutureWarning: use_inf_as_na option is deprecated and will be removed in a future version. Convert inf values to NaN before operating instead.\n",
      "  with pd.option_context('mode.use_inf_as_na', True):\n"
     ]
    },
    {
     "data": {
      "text/plain": [
       "<Axes: title={'center': 'Z'}, xlabel='z', ylabel='Count'>"
      ]
     },
     "execution_count": 10,
     "metadata": {},
     "output_type": "execute_result"
    },
    {
     "data": {
      "image/png": "[encoded data removed]",
      "text/plain": [
       "<Figure size 1200x300 with 3 Axes>"
      ]
     },
     "metadata": {},
     "output_type": "display_data"
    }
   ],
   "source": [
    "# Univariate - Numerical Analysis\n",
    "\n",
    "fig, axs = plt.subplots(1, 3, figsize=(12, 3), constrained_layout=True)\n",
    "fig.suptitle(\"Univariate Plotting - Numerical Features\")\n",
    "\n",
    "axs[0].set_title(\"X\")\n",
    "sns.histplot(data=df, x='x', ax=axs[0])\n",
    "\n",
    "axs[1].set_title(\"Y\")\n",
    "sns.histplot(data=df, x='y', ax=axs[1])\n",
    "\n",
    "axs[2].set_title(\"Z\")\n",
    "sns.histplot(data=df, x='z', ax=axs[2])"
   ]
  },
  {
   "cell_type": "code",
   "execution_count": 11,
   "id": "238e3502-036c-4dfb-a95b-a161d15e8d46",
   "metadata": {},
   "outputs": [
    {
     "data": {
      "text/plain": [
       "<seaborn.axisgrid.PairGrid at 0x13ff72950>"
      ]
     },
     "execution_count": 11,
     "metadata": {},
     "output_type": "execute_result"
    },
    {
     "data": {
      "image/png": "[encoded data removed]",
      "text/plain": [
       "<Figure size 750x250 with 3 Axes>"
      ]
     },
     "metadata": {},
     "output_type": "display_data"
    }
   ],
   "source": [
    "# Bivariate - Numerical vs Numerical Analysis\n",
    "\n",
    "sns.pairplot(data=df,\n",
    "           x_vars=['x', 'y', 'z'],\n",
    "           y_vars='price')"
   ]
  },
  {
   "cell_type": "markdown",
   "id": "aaf7075b",
   "metadata": {},
   "source": [
    "* x (length) seems to have the strongest positive relationship with price among the three dimensions.\n",
    "* Extreme outliers in y and z suggest potential data quality issues or unusual diamond cuts, which should be investigated further."
   ]
  },
  {
   "cell_type": "code",
   "execution_count": 12,
   "id": "08b2227f-52a5-4c43-b6e1-9b1014242a48",
   "metadata": {},
   "outputs": [
    {
     "name": "stdout",
     "output_type": "stream",
     "text": [
      "1.2.2\n"
     ]
    }
   ],
   "source": [
    "import sklearn\n",
    "\n",
    "print(sklearn.__version__)"
   ]
  },
  {
   "cell_type": "markdown",
   "id": "d8537fbc-a9a9-4bdf-a9bf-666f43196045",
   "metadata": {},
   "source": [
    "## **Step 3 - Segregate Inputs (X) and Output (y)**"
   ]
  },
  {
   "cell_type": "code",
   "execution_count": 13,
   "id": "953f25d7-02b3-420f-a6c6-ab941778f422",
   "metadata": {},
   "outputs": [],
   "source": [
    "# Define the predictors (X) and target variable (y)\n",
    "\n",
    "X = df.drop(columns=['price'])\n",
    "\n",
    "y = df['price']"
   ]
  },
  {
   "cell_type": "markdown",
   "id": "1fbbcff2-8bd4-4ded-8819-de2599f3736f",
   "metadata": {},
   "source": [
    "## **Step 4 - Split the data into Train and Test**"
   ]
  },
  {
   "cell_type": "code",
   "execution_count": 14,
   "id": "69506520-0f36-46e4-ba6c-7567df6c4d09",
   "metadata": {},
   "outputs": [
    {
     "name": "stdout",
     "output_type": "stream",
     "text": [
      "(40455, 9) (40455,)\n",
      "(13485, 9) (13485,)\n"
     ]
    }
   ],
   "source": [
    "# Split into train and test\n",
    "from sklearn.model_selection import train_test_split\n",
    "\n",
    "X_train, X_test, y_train, y_test = train_test_split(X, y, \n",
    "                                                    test_size = 0.25, \n",
    "                                                    random_state = 0)\n",
    "\n",
    "print(X_train.shape, y_train.shape)\n",
    "print(X_test.shape, y_test.shape)"
   ]
  },
  {
   "cell_type": "markdown",
   "id": "7bc55644-f263-4e74-9555-14454d3dfab8",
   "metadata": {},
   "source": [
    "## **Step 5 - Apply Data Preparation on Training Data**\n",
    "\n",
    "We will follow the below mentioned strategy:\n",
    "1. Separate Numerical and Categorical Features\n",
    "2. Feature Engineering/Extraction/Transformation\n",
    "    - Applying Standardization on Numerical Features\n",
    "    - Apply LabelEncoding on Categorical Features\n",
    "  \n",
    "**Note: We have skipped the Feature Cleaning Step under Data Preparation in this notebook.**"
   ]
  },
  {
   "cell_type": "code",
   "execution_count": 15,
   "id": "fbee76ea-8483-4621-a41b-06709129fceb",
   "metadata": {},
   "outputs": [
    {
     "data": {
      "text/plain": [
       "carat      float64\n",
       "cut         object\n",
       "color       object\n",
       "clarity     object\n",
       "depth      float64\n",
       "table      float64\n",
       "x          float64\n",
       "y          float64\n",
       "z          float64\n",
       "dtype: object"
      ]
     },
     "execution_count": 15,
     "metadata": {},
     "output_type": "execute_result"
    }
   ],
   "source": [
    "X_train.dtypes"
   ]
  },
  {
   "cell_type": "markdown",
   "id": "369aa098-d465-421e-a89b-1be816137b15",
   "metadata": {},
   "source": [
    "#### **Separate Numerical and Categorical Features**"
   ]
  },
  {
   "cell_type": "code",
   "execution_count": 16,
   "id": "68698f72-a205-4b74-881e-cfb9d86cdbf5",
   "metadata": {},
   "outputs": [],
   "source": [
    "# Separating Categorical and Numerical Columns\n",
    "\n",
    "X_train_cat = X_train.select_dtypes(include=['object'])\n",
    "X_train_num = X_train.select_dtypes(include=['int64', 'float64'])"
   ]
  },
  {
   "cell_type": "code",
   "execution_count": 17,
   "id": "df46fc11-c96e-4436-b286-aaa9396b4f0f",
   "metadata": {},
   "outputs": [
    {
     "data": {
      "text/html": [
       "<div>\n",
       "<style scoped>\n",
       "    .dataframe tbody tr th:only-of-type {\n",
       "        vertical-align: middle;\n",
       "    }\n",
       "\n",
       "    .dataframe tbody tr th {\n",
       "        vertical-align: top;\n",
       "    }\n",
       "\n",
       "    .dataframe thead th {\n",
       "        text-align: right;\n",
       "    }\n",
       "</style>\n",
       "<table border=\"1\" class=\"dataframe\">\n",
       "  <thead>\n",
       "    <tr style=\"text-align: right;\">\n",
       "      <th></th>\n",
       "      <th>cut</th>\n",
       "      <th>color</th>\n",
       "      <th>clarity</th>\n",
       "    </tr>\n",
       "  </thead>\n",
       "  <tbody>\n",
       "    <tr>\n",
       "      <th>441</th>\n",
       "      <td>Premium</td>\n",
       "      <td>H</td>\n",
       "      <td>SI2</td>\n",
       "    </tr>\n",
       "    <tr>\n",
       "      <th>50332</th>\n",
       "      <td>Very Good</td>\n",
       "      <td>D</td>\n",
       "      <td>SI1</td>\n",
       "    </tr>\n",
       "    <tr>\n",
       "      <th>35652</th>\n",
       "      <td>Ideal</td>\n",
       "      <td>G</td>\n",
       "      <td>VVS2</td>\n",
       "    </tr>\n",
       "    <tr>\n",
       "      <th>9439</th>\n",
       "      <td>Very Good</td>\n",
       "      <td>H</td>\n",
       "      <td>VS1</td>\n",
       "    </tr>\n",
       "    <tr>\n",
       "      <th>15824</th>\n",
       "      <td>Good</td>\n",
       "      <td>F</td>\n",
       "      <td>VS2</td>\n",
       "    </tr>\n",
       "  </tbody>\n",
       "</table>\n",
       "</div>"
      ],
      "text/plain": [
       "             cut color clarity\n",
       "441      Premium     H     SI2\n",
       "50332  Very Good     D     SI1\n",
       "35652      Ideal     G    VVS2\n",
       "9439   Very Good     H     VS1\n",
       "15824       Good     F     VS2"
      ]
     },
     "execution_count": 17,
     "metadata": {},
     "output_type": "execute_result"
    }
   ],
   "source": [
    "X_train_cat.head()"
   ]
  },
  {
   "cell_type": "code",
   "execution_count": 18,
   "id": "5c983671-4e12-409c-96bb-8a31657159db",
   "metadata": {},
   "outputs": [
    {
     "data": {
      "text/html": [
       "<div>\n",
       "<style scoped>\n",
       "    .dataframe tbody tr th:only-of-type {\n",
       "        vertical-align: middle;\n",
       "    }\n",
       "\n",
       "    .dataframe tbody tr th {\n",
       "        vertical-align: top;\n",
       "    }\n",
       "\n",
       "    .dataframe thead th {\n",
       "        text-align: right;\n",
       "    }\n",
       "</style>\n",
       "<table border=\"1\" class=\"dataframe\">\n",
       "  <thead>\n",
       "    <tr style=\"text-align: right;\">\n",
       "      <th></th>\n",
       "      <th>carat</th>\n",
       "      <th>depth</th>\n",
       "      <th>table</th>\n",
       "      <th>x</th>\n",
       "      <th>y</th>\n",
       "      <th>z</th>\n",
       "    </tr>\n",
       "  </thead>\n",
       "  <tbody>\n",
       "    <tr>\n",
       "      <th>441</th>\n",
       "      <td>0.89</td>\n",
       "      <td>60.2</td>\n",
       "      <td>59.0</td>\n",
       "      <td>6.26</td>\n",
       "      <td>6.23</td>\n",
       "      <td>3.76</td>\n",
       "    </tr>\n",
       "    <tr>\n",
       "      <th>50332</th>\n",
       "      <td>0.70</td>\n",
       "      <td>64.0</td>\n",
       "      <td>53.0</td>\n",
       "      <td>5.57</td>\n",
       "      <td>5.61</td>\n",
       "      <td>3.58</td>\n",
       "    </tr>\n",
       "    <tr>\n",
       "      <th>35652</th>\n",
       "      <td>0.31</td>\n",
       "      <td>62.7</td>\n",
       "      <td>57.0</td>\n",
       "      <td>4.33</td>\n",
       "      <td>4.31</td>\n",
       "      <td>2.71</td>\n",
       "    </tr>\n",
       "    <tr>\n",
       "      <th>9439</th>\n",
       "      <td>0.90</td>\n",
       "      <td>62.3</td>\n",
       "      <td>59.0</td>\n",
       "      <td>6.12</td>\n",
       "      <td>6.17</td>\n",
       "      <td>3.83</td>\n",
       "    </tr>\n",
       "    <tr>\n",
       "      <th>15824</th>\n",
       "      <td>1.01</td>\n",
       "      <td>60.6</td>\n",
       "      <td>62.0</td>\n",
       "      <td>6.52</td>\n",
       "      <td>6.49</td>\n",
       "      <td>3.94</td>\n",
       "    </tr>\n",
       "  </tbody>\n",
       "</table>\n",
       "</div>"
      ],
      "text/plain": [
       "       carat  depth  table     x     y     z\n",
       "441     0.89   60.2   59.0  6.26  6.23  3.76\n",
       "50332   0.70   64.0   53.0  5.57  5.61  3.58\n",
       "35652   0.31   62.7   57.0  4.33  4.31  2.71\n",
       "9439    0.90   62.3   59.0  6.12  6.17  3.83\n",
       "15824   1.01   60.6   62.0  6.52  6.49  3.94"
      ]
     },
     "execution_count": 18,
     "metadata": {},
     "output_type": "execute_result"
    }
   ],
   "source": [
    "X_train_num.head()"
   ]
  },
  {
   "cell_type": "markdown",
   "id": "087a75e1-97cb-411a-bdc8-133e7a2d5981",
   "metadata": {},
   "source": [
    "#### **Numerical Feature Transformation (Implementation Available Below)**\n",
    "1. Normalization\n",
    "2. Standardization (We will use this method in this project)\n",
    "\n",
    "#### **Categorical Feature Transformation (Implementation Available Below)**\n",
    "1. One Hot Encoding\n",
    "2. Label Encoding\n",
    "3. Ordinal Encoding (We will us this method in this project)"
   ]
  },
  {
   "cell_type": "markdown",
   "id": "51840298-e288-4044-bf41-bd2e5c75a7a4",
   "metadata": {},
   "source": [
    "#### **Numerical Feature Transformation: Applying Standardization**"
   ]
  },
  {
   "cell_type": "code",
   "execution_count": 19,
   "id": "10e4938f-669d-42a4-a854-a4225d272727",
   "metadata": {},
   "outputs": [
    {
     "data": {
      "text/html": [
       "<div>\n",
       "<style scoped>\n",
       "    .dataframe tbody tr th:only-of-type {\n",
       "        vertical-align: middle;\n",
       "    }\n",
       "\n",
       "    .dataframe tbody tr th {\n",
       "        vertical-align: top;\n",
       "    }\n",
       "\n",
       "    .dataframe thead th {\n",
       "        text-align: right;\n",
       "    }\n",
       "</style>\n",
       "<table border=\"1\" class=\"dataframe\">\n",
       "  <thead>\n",
       "    <tr style=\"text-align: right;\">\n",
       "      <th></th>\n",
       "      <th>carat</th>\n",
       "      <th>depth</th>\n",
       "      <th>table</th>\n",
       "      <th>x</th>\n",
       "      <th>y</th>\n",
       "      <th>z</th>\n",
       "    </tr>\n",
       "  </thead>\n",
       "  <tbody>\n",
       "    <tr>\n",
       "      <th>441</th>\n",
       "      <td>0.194920</td>\n",
       "      <td>-1.085697</td>\n",
       "      <td>0.694368</td>\n",
       "      <td>0.472201</td>\n",
       "      <td>0.430971</td>\n",
       "      <td>0.312528</td>\n",
       "    </tr>\n",
       "    <tr>\n",
       "      <th>50332</th>\n",
       "      <td>-0.205679</td>\n",
       "      <td>1.567623</td>\n",
       "      <td>-1.997562</td>\n",
       "      <td>-0.142482</td>\n",
       "      <td>-0.107276</td>\n",
       "      <td>0.058918</td>\n",
       "    </tr>\n",
       "    <tr>\n",
       "      <th>35652</th>\n",
       "      <td>-1.027961</td>\n",
       "      <td>0.659908</td>\n",
       "      <td>-0.202942</td>\n",
       "      <td>-1.247129</td>\n",
       "      <td>-1.235860</td>\n",
       "      <td>-1.166861</td>\n",
       "    </tr>\n",
       "    <tr>\n",
       "      <th>9439</th>\n",
       "      <td>0.216004</td>\n",
       "      <td>0.380611</td>\n",
       "      <td>0.694368</td>\n",
       "      <td>0.347483</td>\n",
       "      <td>0.378883</td>\n",
       "      <td>0.411154</td>\n",
       "    </tr>\n",
       "    <tr>\n",
       "      <th>15824</th>\n",
       "      <td>0.447930</td>\n",
       "      <td>-0.806400</td>\n",
       "      <td>2.040332</td>\n",
       "      <td>0.703821</td>\n",
       "      <td>0.656688</td>\n",
       "      <td>0.566137</td>\n",
       "    </tr>\n",
       "  </tbody>\n",
       "</table>\n",
       "</div>"
      ],
      "text/plain": [
       "          carat     depth     table         x         y         z\n",
       "441    0.194920 -1.085697  0.694368  0.472201  0.430971  0.312528\n",
       "50332 -0.205679  1.567623 -1.997562 -0.142482 -0.107276  0.058918\n",
       "35652 -1.027961  0.659908 -0.202942 -1.247129 -1.235860 -1.166861\n",
       "9439   0.216004  0.380611  0.694368  0.347483  0.378883  0.411154\n",
       "15824  0.447930 -0.806400  2.040332  0.703821  0.656688  0.566137"
      ]
     },
     "execution_count": 19,
     "metadata": {},
     "output_type": "execute_result"
    }
   ],
   "source": [
    "# Rescaling numerical features\n",
    "from sklearn.preprocessing import StandardScaler\n",
    "\n",
    "std_scaler = StandardScaler()\n",
    "\n",
    "# column names are (annoyingly) lost after Scaling\n",
    "# (i.e. the dataframe is converted to a numpy ndarray)\n",
    "X_train_num_transformed = pd.DataFrame(std_scaler.fit_transform(X_train_num), \n",
    "                                    columns = std_scaler.get_feature_names_out(), \n",
    "                                    index = X_train_num.index)\n",
    "\n",
    "X_train_num_transformed.head()"
   ]
  },
  {
   "cell_type": "code",
   "execution_count": 20,
   "id": "5dea9492-4502-4d1f-b1a2-47208cda19f6",
   "metadata": {},
   "outputs": [
    {
     "name": "stdout",
     "output_type": "stream",
     "text": [
      "Number of Numerical Features: 6\n",
      "Output Feature Names: ['carat' 'depth' 'table' 'x' 'y' 'z']\n",
      "Mean of each column: [ 0.79755135 61.75490051 57.45233469  5.72994018  5.73356989  3.53818267]\n",
      "Std of each column: [0.47428986 1.43216771 2.22888453 1.1225301  1.15188634 0.7097527 ]\n"
     ]
    }
   ],
   "source": [
    "# Let's now analyse the properties of 'std_scaler'\n",
    "\n",
    "print(\"Number of Numerical Features:\", std_scaler.n_features_in_)\n",
    "print(\"Output Feature Names:\", std_scaler.get_feature_names_out())\n",
    "print(\"Mean of each column:\", std_scaler.mean_)\n",
    "print(\"Std of each column:\", np.sqrt(std_scaler.var_))"
   ]
  },
  {
   "cell_type": "code",
   "execution_count": 21,
   "id": "5b3bcd8e-cfaf-424d-b377-93fecb35349a",
   "metadata": {},
   "outputs": [
    {
     "data": {
      "text/html": [
       "<div>\n",
       "<style scoped>\n",
       "    .dataframe tbody tr th:only-of-type {\n",
       "        vertical-align: middle;\n",
       "    }\n",
       "\n",
       "    .dataframe tbody tr th {\n",
       "        vertical-align: top;\n",
       "    }\n",
       "\n",
       "    .dataframe thead th {\n",
       "        text-align: right;\n",
       "    }\n",
       "</style>\n",
       "<table border=\"1\" class=\"dataframe\">\n",
       "  <thead>\n",
       "    <tr style=\"text-align: right;\">\n",
       "      <th></th>\n",
       "      <th>carat</th>\n",
       "      <th>depth</th>\n",
       "      <th>table</th>\n",
       "      <th>x</th>\n",
       "      <th>y</th>\n",
       "      <th>z</th>\n",
       "    </tr>\n",
       "  </thead>\n",
       "  <tbody>\n",
       "    <tr>\n",
       "      <th>count</th>\n",
       "      <td>40455.00</td>\n",
       "      <td>40455.00</td>\n",
       "      <td>40455.00</td>\n",
       "      <td>40455.00</td>\n",
       "      <td>40455.00</td>\n",
       "      <td>40455.00</td>\n",
       "    </tr>\n",
       "    <tr>\n",
       "      <th>mean</th>\n",
       "      <td>-0.00</td>\n",
       "      <td>0.00</td>\n",
       "      <td>-0.00</td>\n",
       "      <td>0.00</td>\n",
       "      <td>-0.00</td>\n",
       "      <td>0.00</td>\n",
       "    </tr>\n",
       "    <tr>\n",
       "      <th>std</th>\n",
       "      <td>1.00</td>\n",
       "      <td>1.00</td>\n",
       "      <td>1.00</td>\n",
       "      <td>1.00</td>\n",
       "      <td>1.00</td>\n",
       "      <td>1.00</td>\n",
       "    </tr>\n",
       "    <tr>\n",
       "      <th>min</th>\n",
       "      <td>-1.26</td>\n",
       "      <td>-13.10</td>\n",
       "      <td>-6.48</td>\n",
       "      <td>-5.10</td>\n",
       "      <td>-4.98</td>\n",
       "      <td>-4.99</td>\n",
       "    </tr>\n",
       "    <tr>\n",
       "      <th>25%</th>\n",
       "      <td>-0.84</td>\n",
       "      <td>-0.46</td>\n",
       "      <td>-0.65</td>\n",
       "      <td>-0.91</td>\n",
       "      <td>-0.88</td>\n",
       "      <td>-0.89</td>\n",
       "    </tr>\n",
       "    <tr>\n",
       "      <th>50%</th>\n",
       "      <td>-0.21</td>\n",
       "      <td>0.10</td>\n",
       "      <td>-0.20</td>\n",
       "      <td>-0.04</td>\n",
       "      <td>-0.02</td>\n",
       "      <td>-0.03</td>\n",
       "    </tr>\n",
       "    <tr>\n",
       "      <th>75%</th>\n",
       "      <td>0.51</td>\n",
       "      <td>0.52</td>\n",
       "      <td>0.69</td>\n",
       "      <td>0.72</td>\n",
       "      <td>0.70</td>\n",
       "      <td>0.71</td>\n",
       "    </tr>\n",
       "    <tr>\n",
       "      <th>max</th>\n",
       "      <td>8.88</td>\n",
       "      <td>12.04</td>\n",
       "      <td>9.67</td>\n",
       "      <td>4.46</td>\n",
       "      <td>46.16</td>\n",
       "      <td>39.82</td>\n",
       "    </tr>\n",
       "  </tbody>\n",
       "</table>\n",
       "</div>"
      ],
      "text/plain": [
       "          carat     depth     table         x         y         z\n",
       "count  40455.00  40455.00  40455.00  40455.00  40455.00  40455.00\n",
       "mean      -0.00      0.00     -0.00      0.00     -0.00      0.00\n",
       "std        1.00      1.00      1.00      1.00      1.00      1.00\n",
       "min       -1.26    -13.10     -6.48     -5.10     -4.98     -4.99\n",
       "25%       -0.84     -0.46     -0.65     -0.91     -0.88     -0.89\n",
       "50%       -0.21      0.10     -0.20     -0.04     -0.02     -0.03\n",
       "75%        0.51      0.52      0.69      0.72      0.70      0.71\n",
       "max        8.88     12.04      9.67      4.46     46.16     39.82"
      ]
     },
     "execution_count": 21,
     "metadata": {},
     "output_type": "execute_result"
    }
   ],
   "source": [
    "# Let's also describe the transformed data statistics\n",
    "\n",
    "X_train_num_transformed.describe().round(2)"
   ]
  },
  {
   "cell_type": "markdown",
   "id": "1c19e1c6-1b10-4ca8-951d-119ba62d0b37",
   "metadata": {},
   "source": [
    "#### **Categorical Feature Transformation: Applying Ordinal Encoding**\n",
    "\n",
    "As the three categorical features are ordinal, we will proceed with the Ordinal Encoding instead of One-Hot Encoding or Label Encoding\n",
    "\n",
    "**Parameters**\n",
    "1. categories: 'auto' or a list of array-like, default='auto'\n",
    "    - 'auto' : Determine categories automatically from the training data.\n",
    "    - list : This helps define ordering for categorical columns (lowest to highest)\n",
    "2. handle_unknown: {'error', 'use_encoded_value'}, default='error'\n",
    "    - When set to ‘error’ an error will be raised in case an unknown categorical feature is present during transform. When set to ‘use_encoded_value’, the encoded value of unknown categories will be set to the value given for the parameter `unknown_value`.\n",
    "3. unknown_value: int, default=None\n",
    "    - When the parameter *handle_unknown* is set to *use_encoded_value*, this parameter is required and will set the encoded value of unknown categories. \n",
    "4. min_frequency: int, default=None\n",
    "    - Categories with a smaller cardinality will be considered infrequent.\n",
    "5. encoded_missing_value: int\n",
    "    - Encoded value of missing categories."
   ]
  },
  {
   "cell_type": "code",
   "execution_count": 22,
   "id": "09150bcc-2438-4ff4-9a95-f4db0c0530c7",
   "metadata": {},
   "outputs": [],
   "source": [
    "# Define the ordering for categorical columns (lowest to highest)\n",
    "\n",
    "cut_categories = ['Fair', 'Good', 'Very Good', 'Premium', 'Ideal']\n",
    "color_categories = ['J', 'I', 'H', 'G', 'F', 'E', 'D']\n",
    "clarity_categories = ['I1', 'SI2', 'SI1', 'VS2', 'VS1', 'VVS2', 'VVS1', 'IF']"
   ]
  },
  {
   "cell_type": "code",
   "execution_count": 23,
   "id": "90d1cbc1-95c7-470e-8cfa-d96c7f23da29",
   "metadata": {},
   "outputs": [
    {
     "data": {
      "text/html": [
       "<div>\n",
       "<style scoped>\n",
       "    .dataframe tbody tr th:only-of-type {\n",
       "        vertical-align: middle;\n",
       "    }\n",
       "\n",
       "    .dataframe tbody tr th {\n",
       "        vertical-align: top;\n",
       "    }\n",
       "\n",
       "    .dataframe thead th {\n",
       "        text-align: right;\n",
       "    }\n",
       "</style>\n",
       "<table border=\"1\" class=\"dataframe\">\n",
       "  <thead>\n",
       "    <tr style=\"text-align: right;\">\n",
       "      <th></th>\n",
       "      <th>cut</th>\n",
       "      <th>color</th>\n",
       "      <th>clarity</th>\n",
       "    </tr>\n",
       "  </thead>\n",
       "  <tbody>\n",
       "    <tr>\n",
       "      <th>441</th>\n",
       "      <td>3.0</td>\n",
       "      <td>2.0</td>\n",
       "      <td>1.0</td>\n",
       "    </tr>\n",
       "    <tr>\n",
       "      <th>50332</th>\n",
       "      <td>2.0</td>\n",
       "      <td>6.0</td>\n",
       "      <td>2.0</td>\n",
       "    </tr>\n",
       "    <tr>\n",
       "      <th>35652</th>\n",
       "      <td>4.0</td>\n",
       "      <td>3.0</td>\n",
       "      <td>5.0</td>\n",
       "    </tr>\n",
       "    <tr>\n",
       "      <th>9439</th>\n",
       "      <td>2.0</td>\n",
       "      <td>2.0</td>\n",
       "      <td>4.0</td>\n",
       "    </tr>\n",
       "    <tr>\n",
       "      <th>15824</th>\n",
       "      <td>1.0</td>\n",
       "      <td>4.0</td>\n",
       "      <td>3.0</td>\n",
       "    </tr>\n",
       "  </tbody>\n",
       "</table>\n",
       "</div>"
      ],
      "text/plain": [
       "       cut  color  clarity\n",
       "441    3.0    2.0      1.0\n",
       "50332  2.0    6.0      2.0\n",
       "35652  4.0    3.0      5.0\n",
       "9439   2.0    2.0      4.0\n",
       "15824  1.0    4.0      3.0"
      ]
     },
     "execution_count": 23,
     "metadata": {},
     "output_type": "execute_result"
    }
   ],
   "source": [
    "# Create the OrdinalEncoder with the specified categories\n",
    "from sklearn.preprocessing import OrdinalEncoder\n",
    "\n",
    "ordinal_encoder = OrdinalEncoder(categories=[cut_categories, color_categories, clarity_categories],  \n",
    "                                 handle_unknown=\"use_encoded_value\",\n",
    "                                 unknown_value=-1, \n",
    "                                 encoded_missing_value=-5)\n",
    "\n",
    "# Apply the encoding\n",
    "X_train_cat_transformed = pd.DataFrame(ordinal_encoder.fit_transform(X_train_cat), \n",
    "                                     columns=ordinal_encoder.get_feature_names_out(), \n",
    "                                     index = X_train_cat.index)\n",
    "\n",
    "X_train_cat_transformed.head()"
   ]
  },
  {
   "cell_type": "code",
   "execution_count": 24,
   "id": "d332302e-07ac-40be-8df6-839f7b8420a1",
   "metadata": {},
   "outputs": [
    {
     "name": "stdout",
     "output_type": "stream",
     "text": [
      "Applied encoding on: ['cut' 'color' 'clarity']\n",
      "Unique Categories: [array(['Fair', 'Good', 'Very Good', 'Premium', 'Ideal'], dtype=object), array(['J', 'I', 'H', 'G', 'F', 'E', 'D'], dtype=object), array(['I1', 'SI2', 'SI1', 'VS2', 'VS1', 'VVS2', 'VVS1', 'IF'],\n",
      "      dtype=object)]\n",
      "Feature Names after encoding: ['cut' 'color' 'clarity']\n"
     ]
    }
   ],
   "source": [
    "# Let's now analyse the properties of 'ordinal_encoder'\n",
    "\n",
    "print(\"Applied encoding on:\", ordinal_encoder.feature_names_in_)\n",
    "print(\"Unique Categories:\", ordinal_encoder.categories_)\n",
    "print(\"Feature Names after encoding:\", ordinal_encoder.get_feature_names_out())"
   ]
  },
  {
   "cell_type": "markdown",
   "id": "2fe81e12-9c5b-479e-8fb1-192af698d7b3",
   "metadata": {},
   "source": [
    "#### **Concatenate `X_train_num_transformed` and `X_train_cat_transformed`**"
   ]
  },
  {
   "cell_type": "code",
   "execution_count": 25,
   "id": "e58d7f10-73fe-4c65-b4df-99e0c2be61f7",
   "metadata": {},
   "outputs": [
    {
     "data": {
      "text/html": [
       "<div>\n",
       "<style scoped>\n",
       "    .dataframe tbody tr th:only-of-type {\n",
       "        vertical-align: middle;\n",
       "    }\n",
       "\n",
       "    .dataframe tbody tr th {\n",
       "        vertical-align: top;\n",
       "    }\n",
       "\n",
       "    .dataframe thead th {\n",
       "        text-align: right;\n",
       "    }\n",
       "</style>\n",
       "<table border=\"1\" class=\"dataframe\">\n",
       "  <thead>\n",
       "    <tr style=\"text-align: right;\">\n",
       "      <th></th>\n",
       "      <th>carat</th>\n",
       "      <th>depth</th>\n",
       "      <th>table</th>\n",
       "      <th>x</th>\n",
       "      <th>y</th>\n",
       "      <th>z</th>\n",
       "      <th>cut</th>\n",
       "      <th>color</th>\n",
       "      <th>clarity</th>\n",
       "    </tr>\n",
       "  </thead>\n",
       "  <tbody>\n",
       "    <tr>\n",
       "      <th>441</th>\n",
       "      <td>0.194920</td>\n",
       "      <td>-1.085697</td>\n",
       "      <td>0.694368</td>\n",
       "      <td>0.472201</td>\n",
       "      <td>0.430971</td>\n",
       "      <td>0.312528</td>\n",
       "      <td>3.0</td>\n",
       "      <td>2.0</td>\n",
       "      <td>1.0</td>\n",
       "    </tr>\n",
       "    <tr>\n",
       "      <th>50332</th>\n",
       "      <td>-0.205679</td>\n",
       "      <td>1.567623</td>\n",
       "      <td>-1.997562</td>\n",
       "      <td>-0.142482</td>\n",
       "      <td>-0.107276</td>\n",
       "      <td>0.058918</td>\n",
       "      <td>2.0</td>\n",
       "      <td>6.0</td>\n",
       "      <td>2.0</td>\n",
       "    </tr>\n",
       "    <tr>\n",
       "      <th>35652</th>\n",
       "      <td>-1.027961</td>\n",
       "      <td>0.659908</td>\n",
       "      <td>-0.202942</td>\n",
       "      <td>-1.247129</td>\n",
       "      <td>-1.235860</td>\n",
       "      <td>-1.166861</td>\n",
       "      <td>4.0</td>\n",
       "      <td>3.0</td>\n",
       "      <td>5.0</td>\n",
       "    </tr>\n",
       "    <tr>\n",
       "      <th>9439</th>\n",
       "      <td>0.216004</td>\n",
       "      <td>0.380611</td>\n",
       "      <td>0.694368</td>\n",
       "      <td>0.347483</td>\n",
       "      <td>0.378883</td>\n",
       "      <td>0.411154</td>\n",
       "      <td>2.0</td>\n",
       "      <td>2.0</td>\n",
       "      <td>4.0</td>\n",
       "    </tr>\n",
       "    <tr>\n",
       "      <th>15824</th>\n",
       "      <td>0.447930</td>\n",
       "      <td>-0.806400</td>\n",
       "      <td>2.040332</td>\n",
       "      <td>0.703821</td>\n",
       "      <td>0.656688</td>\n",
       "      <td>0.566137</td>\n",
       "      <td>1.0</td>\n",
       "      <td>4.0</td>\n",
       "      <td>3.0</td>\n",
       "    </tr>\n",
       "  </tbody>\n",
       "</table>\n",
       "</div>"
      ],
      "text/plain": [
       "          carat     depth     table         x         y         z  cut  color  \\\n",
       "441    0.194920 -1.085697  0.694368  0.472201  0.430971  0.312528  3.0    2.0   \n",
       "50332 -0.205679  1.567623 -1.997562 -0.142482 -0.107276  0.058918  2.0    6.0   \n",
       "35652 -1.027961  0.659908 -0.202942 -1.247129 -1.235860 -1.166861  4.0    3.0   \n",
       "9439   0.216004  0.380611  0.694368  0.347483  0.378883  0.411154  2.0    2.0   \n",
       "15824  0.447930 -0.806400  2.040332  0.703821  0.656688  0.566137  1.0    4.0   \n",
       "\n",
       "       clarity  \n",
       "441        1.0  \n",
       "50332      2.0  \n",
       "35652      5.0  \n",
       "9439       4.0  \n",
       "15824      3.0  "
      ]
     },
     "execution_count": 25,
     "metadata": {},
     "output_type": "execute_result"
    }
   ],
   "source": [
    "X_train_transformed = pd.concat([X_train_num_transformed, X_train_cat_transformed], axis=1)\n",
    "\n",
    "X_train_transformed.head()"
   ]
  },
  {
   "cell_type": "markdown",
   "id": "5e64524f-ef70-4bc7-93d4-d5456b356535",
   "metadata": {},
   "source": [
    "## **Step 7 - Apply Data Preparation on Test Data**\n",
    "\n",
    "**Note that, Step-6 is discussed after this.**"
   ]
  },
  {
   "cell_type": "code",
   "execution_count": 26,
   "id": "db33feb1-9695-4fbd-8a01-557b7eac495a",
   "metadata": {},
   "outputs": [],
   "source": [
    "# Separate Categorical and Numerical Features\n",
    "\n",
    "X_test_cat = X_test.select_dtypes(include=['object'])\n",
    "X_test_num = X_test.select_dtypes(include=['int64', 'float64'])"
   ]
  },
  {
   "cell_type": "code",
   "execution_count": 27,
   "id": "33e29d49-b704-4624-879c-83e5ce0a59b5",
   "metadata": {},
   "outputs": [
    {
     "data": {
      "text/html": [
       "<div>\n",
       "<style scoped>\n",
       "    .dataframe tbody tr th:only-of-type {\n",
       "        vertical-align: middle;\n",
       "    }\n",
       "\n",
       "    .dataframe tbody tr th {\n",
       "        vertical-align: top;\n",
       "    }\n",
       "\n",
       "    .dataframe thead th {\n",
       "        text-align: right;\n",
       "    }\n",
       "</style>\n",
       "<table border=\"1\" class=\"dataframe\">\n",
       "  <thead>\n",
       "    <tr style=\"text-align: right;\">\n",
       "      <th></th>\n",
       "      <th>carat</th>\n",
       "      <th>depth</th>\n",
       "      <th>table</th>\n",
       "      <th>x</th>\n",
       "      <th>y</th>\n",
       "      <th>z</th>\n",
       "    </tr>\n",
       "  </thead>\n",
       "  <tbody>\n",
       "    <tr>\n",
       "      <th>10176</th>\n",
       "      <td>0.637687</td>\n",
       "      <td>0.171139</td>\n",
       "      <td>-1.100252</td>\n",
       "      <td>0.783997</td>\n",
       "      <td>0.795591</td>\n",
       "      <td>0.805657</td>\n",
       "    </tr>\n",
       "    <tr>\n",
       "      <th>16083</th>\n",
       "      <td>1.038286</td>\n",
       "      <td>0.590084</td>\n",
       "      <td>-0.651597</td>\n",
       "      <td>1.095792</td>\n",
       "      <td>1.038670</td>\n",
       "      <td>1.143803</td>\n",
       "    </tr>\n",
       "    <tr>\n",
       "      <th>13420</th>\n",
       "      <td>0.848529</td>\n",
       "      <td>-0.457279</td>\n",
       "      <td>0.245713</td>\n",
       "      <td>1.024525</td>\n",
       "      <td>0.925812</td>\n",
       "      <td>0.904283</td>\n",
       "    </tr>\n",
       "    <tr>\n",
       "      <th>20407</th>\n",
       "      <td>1.481053</td>\n",
       "      <td>-0.596928</td>\n",
       "      <td>-0.651597</td>\n",
       "      <td>1.514489</td>\n",
       "      <td>1.411971</td>\n",
       "      <td>1.355144</td>\n",
       "    </tr>\n",
       "    <tr>\n",
       "      <th>8909</th>\n",
       "      <td>0.216004</td>\n",
       "      <td>-0.038334</td>\n",
       "      <td>-0.202942</td>\n",
       "      <td>0.392025</td>\n",
       "      <td>0.413609</td>\n",
       "      <td>0.397064</td>\n",
       "    </tr>\n",
       "  </tbody>\n",
       "</table>\n",
       "</div>"
      ],
      "text/plain": [
       "          carat     depth     table         x         y         z\n",
       "10176  0.637687  0.171139 -1.100252  0.783997  0.795591  0.805657\n",
       "16083  1.038286  0.590084 -0.651597  1.095792  1.038670  1.143803\n",
       "13420  0.848529 -0.457279  0.245713  1.024525  0.925812  0.904283\n",
       "20407  1.481053 -0.596928 -0.651597  1.514489  1.411971  1.355144\n",
       "8909   0.216004 -0.038334 -0.202942  0.392025  0.413609  0.397064"
      ]
     },
     "execution_count": 27,
     "metadata": {},
     "output_type": "execute_result"
    }
   ],
   "source": [
    "# Apply transformation on Numerical data\n",
    "\n",
    "X_test_num_transformed = pd.DataFrame(std_scaler.transform(X_test_num), \n",
    "                                   columns = std_scaler.get_feature_names_out(), \n",
    "                                   index = X_test_num.index)\n",
    "\n",
    "X_test_num_transformed.head()"
   ]
  },
  {
   "cell_type": "code",
   "execution_count": 28,
   "id": "ee333dcd-fec6-47b0-865a-01354f62a575",
   "metadata": {},
   "outputs": [
    {
     "data": {
      "text/html": [
       "<div>\n",
       "<style scoped>\n",
       "    .dataframe tbody tr th:only-of-type {\n",
       "        vertical-align: middle;\n",
       "    }\n",
       "\n",
       "    .dataframe tbody tr th {\n",
       "        vertical-align: top;\n",
       "    }\n",
       "\n",
       "    .dataframe thead th {\n",
       "        text-align: right;\n",
       "    }\n",
       "</style>\n",
       "<table border=\"1\" class=\"dataframe\">\n",
       "  <thead>\n",
       "    <tr style=\"text-align: right;\">\n",
       "      <th></th>\n",
       "      <th>cut</th>\n",
       "      <th>color</th>\n",
       "      <th>clarity</th>\n",
       "    </tr>\n",
       "  </thead>\n",
       "  <tbody>\n",
       "    <tr>\n",
       "      <th>10176</th>\n",
       "      <td>4.0</td>\n",
       "      <td>2.0</td>\n",
       "      <td>1.0</td>\n",
       "    </tr>\n",
       "    <tr>\n",
       "      <th>16083</th>\n",
       "      <td>4.0</td>\n",
       "      <td>2.0</td>\n",
       "      <td>2.0</td>\n",
       "    </tr>\n",
       "    <tr>\n",
       "      <th>13420</th>\n",
       "      <td>3.0</td>\n",
       "      <td>1.0</td>\n",
       "      <td>2.0</td>\n",
       "    </tr>\n",
       "    <tr>\n",
       "      <th>20407</th>\n",
       "      <td>4.0</td>\n",
       "      <td>4.0</td>\n",
       "      <td>2.0</td>\n",
       "    </tr>\n",
       "    <tr>\n",
       "      <th>8909</th>\n",
       "      <td>2.0</td>\n",
       "      <td>4.0</td>\n",
       "      <td>3.0</td>\n",
       "    </tr>\n",
       "  </tbody>\n",
       "</table>\n",
       "</div>"
      ],
      "text/plain": [
       "       cut  color  clarity\n",
       "10176  4.0    2.0      1.0\n",
       "16083  4.0    2.0      2.0\n",
       "13420  3.0    1.0      2.0\n",
       "20407  4.0    4.0      2.0\n",
       "8909   2.0    4.0      3.0"
      ]
     },
     "execution_count": 28,
     "metadata": {},
     "output_type": "execute_result"
    }
   ],
   "source": [
    "# Apply transformation on Categorical data\n",
    "\n",
    "X_test_cat_transformed = pd.DataFrame(ordinal_encoder.transform(X_test_cat), \n",
    "                                   columns = ordinal_encoder.get_feature_names_out(), \n",
    "                                   index = X_test_cat.index)\n",
    "\n",
    "X_test_cat_transformed.head()"
   ]
  },
  {
   "cell_type": "code",
   "execution_count": 29,
   "id": "11e8b9bf-b150-4861-872b-876fcabfce0f",
   "metadata": {},
   "outputs": [
    {
     "data": {
      "text/html": [
       "<div>\n",
       "<style scoped>\n",
       "    .dataframe tbody tr th:only-of-type {\n",
       "        vertical-align: middle;\n",
       "    }\n",
       "\n",
       "    .dataframe tbody tr th {\n",
       "        vertical-align: top;\n",
       "    }\n",
       "\n",
       "    .dataframe thead th {\n",
       "        text-align: right;\n",
       "    }\n",
       "</style>\n",
       "<table border=\"1\" class=\"dataframe\">\n",
       "  <thead>\n",
       "    <tr style=\"text-align: right;\">\n",
       "      <th></th>\n",
       "      <th>carat</th>\n",
       "      <th>depth</th>\n",
       "      <th>table</th>\n",
       "      <th>x</th>\n",
       "      <th>y</th>\n",
       "      <th>z</th>\n",
       "      <th>cut</th>\n",
       "      <th>color</th>\n",
       "      <th>clarity</th>\n",
       "    </tr>\n",
       "  </thead>\n",
       "  <tbody>\n",
       "    <tr>\n",
       "      <th>10176</th>\n",
       "      <td>0.637687</td>\n",
       "      <td>0.171139</td>\n",
       "      <td>-1.100252</td>\n",
       "      <td>0.783997</td>\n",
       "      <td>0.795591</td>\n",
       "      <td>0.805657</td>\n",
       "      <td>4.0</td>\n",
       "      <td>2.0</td>\n",
       "      <td>1.0</td>\n",
       "    </tr>\n",
       "    <tr>\n",
       "      <th>16083</th>\n",
       "      <td>1.038286</td>\n",
       "      <td>0.590084</td>\n",
       "      <td>-0.651597</td>\n",
       "      <td>1.095792</td>\n",
       "      <td>1.038670</td>\n",
       "      <td>1.143803</td>\n",
       "      <td>4.0</td>\n",
       "      <td>2.0</td>\n",
       "      <td>2.0</td>\n",
       "    </tr>\n",
       "    <tr>\n",
       "      <th>13420</th>\n",
       "      <td>0.848529</td>\n",
       "      <td>-0.457279</td>\n",
       "      <td>0.245713</td>\n",
       "      <td>1.024525</td>\n",
       "      <td>0.925812</td>\n",
       "      <td>0.904283</td>\n",
       "      <td>3.0</td>\n",
       "      <td>1.0</td>\n",
       "      <td>2.0</td>\n",
       "    </tr>\n",
       "    <tr>\n",
       "      <th>20407</th>\n",
       "      <td>1.481053</td>\n",
       "      <td>-0.596928</td>\n",
       "      <td>-0.651597</td>\n",
       "      <td>1.514489</td>\n",
       "      <td>1.411971</td>\n",
       "      <td>1.355144</td>\n",
       "      <td>4.0</td>\n",
       "      <td>4.0</td>\n",
       "      <td>2.0</td>\n",
       "    </tr>\n",
       "    <tr>\n",
       "      <th>8909</th>\n",
       "      <td>0.216004</td>\n",
       "      <td>-0.038334</td>\n",
       "      <td>-0.202942</td>\n",
       "      <td>0.392025</td>\n",
       "      <td>0.413609</td>\n",
       "      <td>0.397064</td>\n",
       "      <td>2.0</td>\n",
       "      <td>4.0</td>\n",
       "      <td>3.0</td>\n",
       "    </tr>\n",
       "  </tbody>\n",
       "</table>\n",
       "</div>"
      ],
      "text/plain": [
       "          carat     depth     table         x         y         z  cut  color  \\\n",
       "10176  0.637687  0.171139 -1.100252  0.783997  0.795591  0.805657  4.0    2.0   \n",
       "16083  1.038286  0.590084 -0.651597  1.095792  1.038670  1.143803  4.0    2.0   \n",
       "13420  0.848529 -0.457279  0.245713  1.024525  0.925812  0.904283  3.0    1.0   \n",
       "20407  1.481053 -0.596928 -0.651597  1.514489  1.411971  1.355144  4.0    4.0   \n",
       "8909   0.216004 -0.038334 -0.202942  0.392025  0.413609  0.397064  2.0    4.0   \n",
       "\n",
       "       clarity  \n",
       "10176      1.0  \n",
       "16083      2.0  \n",
       "13420      2.0  \n",
       "20407      2.0  \n",
       "8909       3.0  "
      ]
     },
     "execution_count": 29,
     "metadata": {},
     "output_type": "execute_result"
    }
   ],
   "source": [
    "# Concatinate X_test_num_transformed and X_test_cat_transformed\n",
    "\n",
    "X_test_transformed = pd.concat([X_test_num_transformed, X_test_cat_transformed], axis=1)\n",
    "\n",
    "X_test_transformed.head()"
   ]
  },
  {
   "cell_type": "markdown",
   "id": "cfa1f6ed-3541-48f6-bdf0-88633ec20994",
   "metadata": {},
   "source": [
    "## **Step 6, 8 and 9 - Training and Testing Phase (Linear Regression)**"
   ]
  },
  {
   "cell_type": "code",
   "execution_count": 30,
   "id": "76b34ece-23ef-44c7-9506-39ce287d38b4",
   "metadata": {},
   "outputs": [
    {
     "name": "stdout",
     "output_type": "stream",
     "text": [
      "Model's Error: 806.1632101815571\n",
      "\n",
      "CPU times: user 26.6 ms, sys: 9.99 ms, total: 36.6 ms\n",
      "Wall time: 49.9 ms\n"
     ]
    }
   ],
   "source": [
    "%%time\n",
    "\n",
    "from sklearn.linear_model import LinearRegression\n",
    "from sklearn import metrics\n",
    "\n",
    "regressor = LinearRegression()\n",
    "regressor.fit(X_train_transformed, y_train)\n",
    "\n",
    "y_test_pred = regressor.predict(X_test_transformed)\n",
    "\n",
    "print(\"Model's Error:\", metrics.mean_absolute_error(y_test, y_test_pred))\n",
    "print()"
   ]
  },
  {
   "cell_type": "code",
   "execution_count": 31,
   "id": "63fdc4db-4822-4ce3-ba6f-e58d774a6e29",
   "metadata": {},
   "outputs": [],
   "source": [
    "output_df = pd.DataFrame({'Actual': y_test})"
   ]
  },
  {
   "cell_type": "code",
   "execution_count": 32,
   "id": "22ee5b27-d0e2-4bfa-bcda-bb1cb34feee7",
   "metadata": {},
   "outputs": [
    {
     "data": {
      "text/html": [
       "<div>\n",
       "<style scoped>\n",
       "    .dataframe tbody tr th:only-of-type {\n",
       "        vertical-align: middle;\n",
       "    }\n",
       "\n",
       "    .dataframe tbody tr th {\n",
       "        vertical-align: top;\n",
       "    }\n",
       "\n",
       "    .dataframe thead th {\n",
       "        text-align: right;\n",
       "    }\n",
       "</style>\n",
       "<table border=\"1\" class=\"dataframe\">\n",
       "  <thead>\n",
       "    <tr style=\"text-align: right;\">\n",
       "      <th></th>\n",
       "      <th>Actual</th>\n",
       "      <th>Linear Regression Predictions</th>\n",
       "    </tr>\n",
       "  </thead>\n",
       "  <tbody>\n",
       "    <tr>\n",
       "      <th>10176</th>\n",
       "      <td>4733</td>\n",
       "      <td>5131.107679</td>\n",
       "    </tr>\n",
       "    <tr>\n",
       "      <th>16083</th>\n",
       "      <td>6424</td>\n",
       "      <td>7294.764679</td>\n",
       "    </tr>\n",
       "    <tr>\n",
       "      <th>13420</th>\n",
       "      <td>5510</td>\n",
       "      <td>6025.770217</td>\n",
       "    </tr>\n",
       "    <tr>\n",
       "      <th>20407</th>\n",
       "      <td>8770</td>\n",
       "      <td>9927.067650</td>\n",
       "    </tr>\n",
       "    <tr>\n",
       "      <th>8909</th>\n",
       "      <td>4493</td>\n",
       "      <td>4732.652453</td>\n",
       "    </tr>\n",
       "    <tr>\n",
       "      <th>...</th>\n",
       "      <td>...</td>\n",
       "      <td>...</td>\n",
       "    </tr>\n",
       "    <tr>\n",
       "      <th>52283</th>\n",
       "      <td>2494</td>\n",
       "      <td>3348.611770</td>\n",
       "    </tr>\n",
       "    <tr>\n",
       "      <th>10789</th>\n",
       "      <td>4861</td>\n",
       "      <td>4480.310760</td>\n",
       "    </tr>\n",
       "    <tr>\n",
       "      <th>1190</th>\n",
       "      <td>2932</td>\n",
       "      <td>3870.804522</td>\n",
       "    </tr>\n",
       "    <tr>\n",
       "      <th>3583</th>\n",
       "      <td>3422</td>\n",
       "      <td>4198.061830</td>\n",
       "    </tr>\n",
       "    <tr>\n",
       "      <th>40845</th>\n",
       "      <td>1173</td>\n",
       "      <td>1404.257826</td>\n",
       "    </tr>\n",
       "  </tbody>\n",
       "</table>\n",
       "<p>13485 rows × 2 columns</p>\n",
       "</div>"
      ],
      "text/plain": [
       "       Actual  Linear Regression Predictions\n",
       "10176    4733                    5131.107679\n",
       "16083    6424                    7294.764679\n",
       "13420    5510                    6025.770217\n",
       "20407    8770                    9927.067650\n",
       "8909     4493                    4732.652453\n",
       "...       ...                            ...\n",
       "52283    2494                    3348.611770\n",
       "10789    4861                    4480.310760\n",
       "1190     2932                    3870.804522\n",
       "3583     3422                    4198.061830\n",
       "40845    1173                    1404.257826\n",
       "\n",
       "[13485 rows x 2 columns]"
      ]
     },
     "execution_count": 32,
     "metadata": {},
     "output_type": "execute_result"
    }
   ],
   "source": [
    "output_df['Linear Regression Predictions'] = y_test_pred\n",
    "\n",
    "output_df"
   ]
  },
  {
   "cell_type": "code",
   "execution_count": 33,
   "id": "8bf71ed8-0ff3-4957-b430-a0ec347e67f9",
   "metadata": {},
   "outputs": [
    {
     "name": "stderr",
     "output_type": "stream",
     "text": [
      "/opt/anaconda3/lib/python3.11/site-packages/seaborn/_oldcore.py:1119: FutureWarning: use_inf_as_na option is deprecated and will be removed in a future version. Convert inf values to NaN before operating instead.\n",
      "  with pd.option_context('mode.use_inf_as_na', True):\n",
      "/opt/anaconda3/lib/python3.11/site-packages/seaborn/_oldcore.py:1119: FutureWarning: use_inf_as_na option is deprecated and will be removed in a future version. Convert inf values to NaN before operating instead.\n",
      "  with pd.option_context('mode.use_inf_as_na', True):\n"
     ]
    },
    {
     "data": {
      "text/plain": [
       "<matplotlib.legend.Legend at 0x14a9db390>"
      ]
     },
     "execution_count": 33,
     "metadata": {},
     "output_type": "execute_result"
    },
    {
     "data": {
      "image/png": "[encoded data removed]",
      "text/plain": [
       "<Figure size 800x300 with 1 Axes>"
      ]
     },
     "metadata": {},
     "output_type": "display_data"
    }
   ],
   "source": [
    "fig, ax = plt.subplots(figsize=(8,3))\n",
    "\n",
    "sns.histplot(output_df['Actual'], color='blue', alpha=0.5, label=\"actual\")\n",
    "sns.histplot(output_df['Linear Regression Predictions'], color='red', alpha=0.5, label=\"prediction\")\n",
    "\n",
    "plt.legend()"
   ]
  },
  {
   "cell_type": "markdown",
   "id": "8e44245a-2c03-4169-ac9f-4cc8ac7a1544",
   "metadata": {},
   "source": [
    "## **Step 6, 8 and 9 - Training and Testing Phase (KNN Regression)**"
   ]
  },
  {
   "cell_type": "code",
   "execution_count": 34,
   "id": "cf8fa718-1bd5-4da5-8df4-fa65b1f16cbd",
   "metadata": {},
   "outputs": [
    {
     "name": "stdout",
     "output_type": "stream",
     "text": [
      "Model's Error: 381.07531331108635\n",
      "\n",
      "CPU times: user 348 ms, sys: 6.06 ms, total: 354 ms\n",
      "Wall time: 212 ms\n"
     ]
    }
   ],
   "source": [
    "%%time\n",
    "\n",
    "from sklearn.neighbors import KNeighborsRegressor\n",
    "from sklearn import metrics\n",
    "\n",
    "regressor = KNeighborsRegressor()\n",
    "regressor.fit(X_train_transformed, y_train)\n",
    "\n",
    "y_test_pred = regressor.predict(X_test_transformed)\n",
    "\n",
    "print(\"Model's Error:\", metrics.mean_absolute_error(y_test, y_test_pred))\n",
    "print()"
   ]
  },
  {
   "cell_type": "code",
   "execution_count": 35,
   "id": "f9ede079-721e-4272-8fda-6c433241b15f",
   "metadata": {},
   "outputs": [
    {
     "data": {
      "text/html": [
       "<div>\n",
       "<style scoped>\n",
       "    .dataframe tbody tr th:only-of-type {\n",
       "        vertical-align: middle;\n",
       "    }\n",
       "\n",
       "    .dataframe tbody tr th {\n",
       "        vertical-align: top;\n",
       "    }\n",
       "\n",
       "    .dataframe thead th {\n",
       "        text-align: right;\n",
       "    }\n",
       "</style>\n",
       "<table border=\"1\" class=\"dataframe\">\n",
       "  <thead>\n",
       "    <tr style=\"text-align: right;\">\n",
       "      <th></th>\n",
       "      <th>Actual</th>\n",
       "      <th>Linear Regression Predictions</th>\n",
       "      <th>KNN Regression Predictions</th>\n",
       "    </tr>\n",
       "  </thead>\n",
       "  <tbody>\n",
       "    <tr>\n",
       "      <th>10176</th>\n",
       "      <td>4733</td>\n",
       "      <td>5131.107679</td>\n",
       "      <td>4664.4</td>\n",
       "    </tr>\n",
       "    <tr>\n",
       "      <th>16083</th>\n",
       "      <td>6424</td>\n",
       "      <td>7294.764679</td>\n",
       "      <td>6278.2</td>\n",
       "    </tr>\n",
       "    <tr>\n",
       "      <th>13420</th>\n",
       "      <td>5510</td>\n",
       "      <td>6025.770217</td>\n",
       "      <td>5180.8</td>\n",
       "    </tr>\n",
       "    <tr>\n",
       "      <th>20407</th>\n",
       "      <td>8770</td>\n",
       "      <td>9927.067650</td>\n",
       "      <td>12080.0</td>\n",
       "    </tr>\n",
       "    <tr>\n",
       "      <th>8909</th>\n",
       "      <td>4493</td>\n",
       "      <td>4732.652453</td>\n",
       "      <td>6015.2</td>\n",
       "    </tr>\n",
       "    <tr>\n",
       "      <th>...</th>\n",
       "      <td>...</td>\n",
       "      <td>...</td>\n",
       "      <td>...</td>\n",
       "    </tr>\n",
       "    <tr>\n",
       "      <th>52283</th>\n",
       "      <td>2494</td>\n",
       "      <td>3348.611770</td>\n",
       "      <td>2445.2</td>\n",
       "    </tr>\n",
       "    <tr>\n",
       "      <th>10789</th>\n",
       "      <td>4861</td>\n",
       "      <td>4480.310760</td>\n",
       "      <td>4301.8</td>\n",
       "    </tr>\n",
       "    <tr>\n",
       "      <th>1190</th>\n",
       "      <td>2932</td>\n",
       "      <td>3870.804522</td>\n",
       "      <td>3569.6</td>\n",
       "    </tr>\n",
       "    <tr>\n",
       "      <th>3583</th>\n",
       "      <td>3422</td>\n",
       "      <td>4198.061830</td>\n",
       "      <td>3228.2</td>\n",
       "    </tr>\n",
       "    <tr>\n",
       "      <th>40845</th>\n",
       "      <td>1173</td>\n",
       "      <td>1404.257826</td>\n",
       "      <td>1533.4</td>\n",
       "    </tr>\n",
       "  </tbody>\n",
       "</table>\n",
       "<p>13485 rows × 3 columns</p>\n",
       "</div>"
      ],
      "text/plain": [
       "       Actual  Linear Regression Predictions  KNN Regression Predictions\n",
       "10176    4733                    5131.107679                      4664.4\n",
       "16083    6424                    7294.764679                      6278.2\n",
       "13420    5510                    6025.770217                      5180.8\n",
       "20407    8770                    9927.067650                     12080.0\n",
       "8909     4493                    4732.652453                      6015.2\n",
       "...       ...                            ...                         ...\n",
       "52283    2494                    3348.611770                      2445.2\n",
       "10789    4861                    4480.310760                      4301.8\n",
       "1190     2932                    3870.804522                      3569.6\n",
       "3583     3422                    4198.061830                      3228.2\n",
       "40845    1173                    1404.257826                      1533.4\n",
       "\n",
       "[13485 rows x 3 columns]"
      ]
     },
     "execution_count": 35,
     "metadata": {},
     "output_type": "execute_result"
    }
   ],
   "source": [
    "output_df['KNN Regression Predictions'] = y_test_pred\n",
    "\n",
    "output_df"
   ]
  },
  {
   "cell_type": "code",
   "execution_count": 36,
   "id": "f1deda25-1f27-4aea-8d93-bc58a51801a6",
   "metadata": {},
   "outputs": [
    {
     "name": "stderr",
     "output_type": "stream",
     "text": [
      "/opt/anaconda3/lib/python3.11/site-packages/seaborn/_oldcore.py:1119: FutureWarning: use_inf_as_na option is deprecated and will be removed in a future version. Convert inf values to NaN before operating instead.\n",
      "  with pd.option_context('mode.use_inf_as_na', True):\n",
      "/opt/anaconda3/lib/python3.11/site-packages/seaborn/_oldcore.py:1119: FutureWarning: use_inf_as_na option is deprecated and will be removed in a future version. Convert inf values to NaN before operating instead.\n",
      "  with pd.option_context('mode.use_inf_as_na', True):\n"
     ]
    },
    {
     "data": {
      "text/plain": [
       "<matplotlib.legend.Legend at 0x14aaebf50>"
      ]
     },
     "execution_count": 36,
     "metadata": {},
     "output_type": "execute_result"
    },
    {
     "data": {
      "image/png": "[encoded data removed]",
      "text/plain": [
       "<Figure size 800x300 with 1 Axes>"
      ]
     },
     "metadata": {},
     "output_type": "display_data"
    }
   ],
   "source": [
    "fig, ax = plt.subplots(figsize=(8,3))\n",
    "\n",
    "sns.histplot(output_df['Actual'], color='blue', alpha=0.5, label=\"actual\")\n",
    "sns.histplot(output_df['KNN Regression Predictions'], color='red', alpha=0.5, label=\"prediction\")\n",
    "\n",
    "plt.legend()"
   ]
  },
  {
   "cell_type": "markdown",
   "id": "84627ac9-d065-424c-9fe3-142af3d8c27f",
   "metadata": {},
   "source": [
    "## **Step 6, 8 and 9 - Training and Testing Phase (DT Regression)**"
   ]
  },
  {
   "cell_type": "code",
   "execution_count": 37,
   "id": "45e0eb0b-da14-4c90-a6a8-2f759249bfc7",
   "metadata": {},
   "outputs": [
    {
     "name": "stdout",
     "output_type": "stream",
     "text": [
      "Model's Error: 352.71234705228034\n",
      "\n",
      "CPU times: user 523 ms, sys: 5.63 ms, total: 528 ms\n",
      "Wall time: 180 ms\n"
     ]
    }
   ],
   "source": [
    "%%time\n",
    "\n",
    "from sklearn.tree import DecisionTreeRegressor\n",
    "from sklearn import metrics\n",
    "\n",
    "regressor = DecisionTreeRegressor()\n",
    "regressor.fit(X_train_transformed, y_train)\n",
    "\n",
    "y_test_pred = regressor.predict(X_test_transformed)\n",
    "\n",
    "print(\"Model's Error:\", metrics.mean_absolute_error(y_test, y_test_pred))\n",
    "print()"
   ]
  },
  {
   "cell_type": "code",
   "execution_count": 38,
   "id": "a82ff5dc-d99b-466c-ac76-4cf1ea45d0fa",
   "metadata": {},
   "outputs": [
    {
     "data": {
      "text/html": [
       "<div>\n",
       "<style scoped>\n",
       "    .dataframe tbody tr th:only-of-type {\n",
       "        vertical-align: middle;\n",
       "    }\n",
       "\n",
       "    .dataframe tbody tr th {\n",
       "        vertical-align: top;\n",
       "    }\n",
       "\n",
       "    .dataframe thead th {\n",
       "        text-align: right;\n",
       "    }\n",
       "</style>\n",
       "<table border=\"1\" class=\"dataframe\">\n",
       "  <thead>\n",
       "    <tr style=\"text-align: right;\">\n",
       "      <th></th>\n",
       "      <th>Actual</th>\n",
       "      <th>Linear Regression Predictions</th>\n",
       "      <th>KNN Regression Predictions</th>\n",
       "      <th>DT Regression Predictions</th>\n",
       "    </tr>\n",
       "  </thead>\n",
       "  <tbody>\n",
       "    <tr>\n",
       "      <th>10176</th>\n",
       "      <td>4733</td>\n",
       "      <td>5131.107679</td>\n",
       "      <td>4664.4</td>\n",
       "      <td>4620.0</td>\n",
       "    </tr>\n",
       "    <tr>\n",
       "      <th>16083</th>\n",
       "      <td>6424</td>\n",
       "      <td>7294.764679</td>\n",
       "      <td>6278.2</td>\n",
       "      <td>7109.0</td>\n",
       "    </tr>\n",
       "    <tr>\n",
       "      <th>13420</th>\n",
       "      <td>5510</td>\n",
       "      <td>6025.770217</td>\n",
       "      <td>5180.8</td>\n",
       "      <td>5190.0</td>\n",
       "    </tr>\n",
       "    <tr>\n",
       "      <th>20407</th>\n",
       "      <td>8770</td>\n",
       "      <td>9927.067650</td>\n",
       "      <td>12080.0</td>\n",
       "      <td>12477.0</td>\n",
       "    </tr>\n",
       "    <tr>\n",
       "      <th>8909</th>\n",
       "      <td>4493</td>\n",
       "      <td>4732.652453</td>\n",
       "      <td>6015.2</td>\n",
       "      <td>4134.0</td>\n",
       "    </tr>\n",
       "    <tr>\n",
       "      <th>...</th>\n",
       "      <td>...</td>\n",
       "      <td>...</td>\n",
       "      <td>...</td>\n",
       "      <td>...</td>\n",
       "    </tr>\n",
       "    <tr>\n",
       "      <th>52283</th>\n",
       "      <td>2494</td>\n",
       "      <td>3348.611770</td>\n",
       "      <td>2445.2</td>\n",
       "      <td>2442.0</td>\n",
       "    </tr>\n",
       "    <tr>\n",
       "      <th>10789</th>\n",
       "      <td>4861</td>\n",
       "      <td>4480.310760</td>\n",
       "      <td>4301.8</td>\n",
       "      <td>4028.0</td>\n",
       "    </tr>\n",
       "    <tr>\n",
       "      <th>1190</th>\n",
       "      <td>2932</td>\n",
       "      <td>3870.804522</td>\n",
       "      <td>3569.6</td>\n",
       "      <td>2721.0</td>\n",
       "    </tr>\n",
       "    <tr>\n",
       "      <th>3583</th>\n",
       "      <td>3422</td>\n",
       "      <td>4198.061830</td>\n",
       "      <td>3228.2</td>\n",
       "      <td>2852.0</td>\n",
       "    </tr>\n",
       "    <tr>\n",
       "      <th>40845</th>\n",
       "      <td>1173</td>\n",
       "      <td>1404.257826</td>\n",
       "      <td>1533.4</td>\n",
       "      <td>1251.0</td>\n",
       "    </tr>\n",
       "  </tbody>\n",
       "</table>\n",
       "<p>13485 rows × 4 columns</p>\n",
       "</div>"
      ],
      "text/plain": [
       "       Actual  Linear Regression Predictions  KNN Regression Predictions  \\\n",
       "10176    4733                    5131.107679                      4664.4   \n",
       "16083    6424                    7294.764679                      6278.2   \n",
       "13420    5510                    6025.770217                      5180.8   \n",
       "20407    8770                    9927.067650                     12080.0   \n",
       "8909     4493                    4732.652453                      6015.2   \n",
       "...       ...                            ...                         ...   \n",
       "52283    2494                    3348.611770                      2445.2   \n",
       "10789    4861                    4480.310760                      4301.8   \n",
       "1190     2932                    3870.804522                      3569.6   \n",
       "3583     3422                    4198.061830                      3228.2   \n",
       "40845    1173                    1404.257826                      1533.4   \n",
       "\n",
       "       DT Regression Predictions  \n",
       "10176                     4620.0  \n",
       "16083                     7109.0  \n",
       "13420                     5190.0  \n",
       "20407                    12477.0  \n",
       "8909                      4134.0  \n",
       "...                          ...  \n",
       "52283                     2442.0  \n",
       "10789                     4028.0  \n",
       "1190                      2721.0  \n",
       "3583                      2852.0  \n",
       "40845                     1251.0  \n",
       "\n",
       "[13485 rows x 4 columns]"
      ]
     },
     "execution_count": 38,
     "metadata": {},
     "output_type": "execute_result"
    }
   ],
   "source": [
    "output_df['DT Regression Predictions'] = y_test_pred\n",
    "\n",
    "output_df"
   ]
  },
  {
   "cell_type": "code",
   "execution_count": 39,
   "id": "0610702f-20ad-41e8-a04b-28b499219ed2",
   "metadata": {},
   "outputs": [
    {
     "name": "stderr",
     "output_type": "stream",
     "text": [
      "/opt/anaconda3/lib/python3.11/site-packages/seaborn/_oldcore.py:1119: FutureWarning: use_inf_as_na option is deprecated and will be removed in a future version. Convert inf values to NaN before operating instead.\n",
      "  with pd.option_context('mode.use_inf_as_na', True):\n",
      "/opt/anaconda3/lib/python3.11/site-packages/seaborn/_oldcore.py:1119: FutureWarning: use_inf_as_na option is deprecated and will be removed in a future version. Convert inf values to NaN before operating instead.\n",
      "  with pd.option_context('mode.use_inf_as_na', True):\n"
     ]
    },
    {
     "data": {
      "text/plain": [
       "<matplotlib.legend.Legend at 0x14ad49210>"
      ]
     },
     "execution_count": 39,
     "metadata": {},
     "output_type": "execute_result"
    },
    {
     "data": {
      "image/png": "[encoded data removed]",
      "text/plain": [
       "<Figure size 800x300 with 1 Axes>"
      ]
     },
     "metadata": {},
     "output_type": "display_data"
    }
   ],
   "source": [
    "fig, ax = plt.subplots(figsize=(8,3))\n",
    "\n",
    "sns.histplot(output_df['Actual'], color='blue', alpha=0.5, label=\"actual\")\n",
    "sns.histplot(output_df['DT Regression Predictions'], color='red', alpha=0.5, label=\"prediction\")\n",
    "\n",
    "plt.legend()"
   ]
  },
  {
   "cell_type": "markdown",
   "id": "a6c657d3-c291-4a53-9358-c0583f8f12ef",
   "metadata": {},
   "source": [
    "## **Step 6, 8 and 9 - Training and Testing Phase (Random Forest Regression)**"
   ]
  },
  {
   "cell_type": "code",
   "execution_count": 40,
   "id": "2937f1d4-0d4c-47b8-b016-ef52c08a604a",
   "metadata": {},
   "outputs": [
    {
     "name": "stdout",
     "output_type": "stream",
     "text": [
      "Model's Error: 268.2149901636739\n",
      "\n",
      "CPU times: user 9.95 s, sys: 90 ms, total: 10 s\n",
      "Wall time: 9.71 s\n"
     ]
    }
   ],
   "source": [
    "%%time\n",
    "\n",
    "from sklearn.ensemble import RandomForestRegressor\n",
    "from sklearn import metrics\n",
    "\n",
    "regressor = RandomForestRegressor()\n",
    "regressor.fit(X_train_transformed, y_train)\n",
    "\n",
    "y_test_pred = regressor.predict(X_test_transformed)\n",
    "\n",
    "print(\"Model's Error:\", metrics.mean_absolute_error(y_test, y_test_pred))\n",
    "print()"
   ]
  },
  {
   "cell_type": "code",
   "execution_count": 41,
   "id": "74a2f3b9-fda3-41b1-82cf-c63a3a105d36",
   "metadata": {},
   "outputs": [
    {
     "data": {
      "text/html": [
       "<div>\n",
       "<style scoped>\n",
       "    .dataframe tbody tr th:only-of-type {\n",
       "        vertical-align: middle;\n",
       "    }\n",
       "\n",
       "    .dataframe tbody tr th {\n",
       "        vertical-align: top;\n",
       "    }\n",
       "\n",
       "    .dataframe thead th {\n",
       "        text-align: right;\n",
       "    }\n",
       "</style>\n",
       "<table border=\"1\" class=\"dataframe\">\n",
       "  <thead>\n",
       "    <tr style=\"text-align: right;\">\n",
       "      <th></th>\n",
       "      <th>Actual</th>\n",
       "      <th>Linear Regression Predictions</th>\n",
       "      <th>KNN Regression Predictions</th>\n",
       "      <th>DT Regression Predictions</th>\n",
       "      <th>RF Regression Predictions</th>\n",
       "    </tr>\n",
       "  </thead>\n",
       "  <tbody>\n",
       "    <tr>\n",
       "      <th>10176</th>\n",
       "      <td>4733</td>\n",
       "      <td>5131.107679</td>\n",
       "      <td>4664.4</td>\n",
       "      <td>4620.0</td>\n",
       "      <td>4819.390000</td>\n",
       "    </tr>\n",
       "    <tr>\n",
       "      <th>16083</th>\n",
       "      <td>6424</td>\n",
       "      <td>7294.764679</td>\n",
       "      <td>6278.2</td>\n",
       "      <td>7109.0</td>\n",
       "      <td>7064.730000</td>\n",
       "    </tr>\n",
       "    <tr>\n",
       "      <th>13420</th>\n",
       "      <td>5510</td>\n",
       "      <td>6025.770217</td>\n",
       "      <td>5180.8</td>\n",
       "      <td>5190.0</td>\n",
       "      <td>5275.160000</td>\n",
       "    </tr>\n",
       "    <tr>\n",
       "      <th>20407</th>\n",
       "      <td>8770</td>\n",
       "      <td>9927.067650</td>\n",
       "      <td>12080.0</td>\n",
       "      <td>12477.0</td>\n",
       "      <td>11408.390000</td>\n",
       "    </tr>\n",
       "    <tr>\n",
       "      <th>8909</th>\n",
       "      <td>4493</td>\n",
       "      <td>4732.652453</td>\n",
       "      <td>6015.2</td>\n",
       "      <td>4134.0</td>\n",
       "      <td>4772.430000</td>\n",
       "    </tr>\n",
       "    <tr>\n",
       "      <th>...</th>\n",
       "      <td>...</td>\n",
       "      <td>...</td>\n",
       "      <td>...</td>\n",
       "      <td>...</td>\n",
       "      <td>...</td>\n",
       "    </tr>\n",
       "    <tr>\n",
       "      <th>52283</th>\n",
       "      <td>2494</td>\n",
       "      <td>3348.611770</td>\n",
       "      <td>2445.2</td>\n",
       "      <td>2442.0</td>\n",
       "      <td>2449.960000</td>\n",
       "    </tr>\n",
       "    <tr>\n",
       "      <th>10789</th>\n",
       "      <td>4861</td>\n",
       "      <td>4480.310760</td>\n",
       "      <td>4301.8</td>\n",
       "      <td>4028.0</td>\n",
       "      <td>4410.300000</td>\n",
       "    </tr>\n",
       "    <tr>\n",
       "      <th>1190</th>\n",
       "      <td>2932</td>\n",
       "      <td>3870.804522</td>\n",
       "      <td>3569.6</td>\n",
       "      <td>2721.0</td>\n",
       "      <td>3075.510667</td>\n",
       "    </tr>\n",
       "    <tr>\n",
       "      <th>3583</th>\n",
       "      <td>3422</td>\n",
       "      <td>4198.061830</td>\n",
       "      <td>3228.2</td>\n",
       "      <td>2852.0</td>\n",
       "      <td>2863.190000</td>\n",
       "    </tr>\n",
       "    <tr>\n",
       "      <th>40845</th>\n",
       "      <td>1173</td>\n",
       "      <td>1404.257826</td>\n",
       "      <td>1533.4</td>\n",
       "      <td>1251.0</td>\n",
       "      <td>1287.950000</td>\n",
       "    </tr>\n",
       "  </tbody>\n",
       "</table>\n",
       "<p>13485 rows × 5 columns</p>\n",
       "</div>"
      ],
      "text/plain": [
       "       Actual  Linear Regression Predictions  KNN Regression Predictions  \\\n",
       "10176    4733                    5131.107679                      4664.4   \n",
       "16083    6424                    7294.764679                      6278.2   \n",
       "13420    5510                    6025.770217                      5180.8   \n",
       "20407    8770                    9927.067650                     12080.0   \n",
       "8909     4493                    4732.652453                      6015.2   \n",
       "...       ...                            ...                         ...   \n",
       "52283    2494                    3348.611770                      2445.2   \n",
       "10789    4861                    4480.310760                      4301.8   \n",
       "1190     2932                    3870.804522                      3569.6   \n",
       "3583     3422                    4198.061830                      3228.2   \n",
       "40845    1173                    1404.257826                      1533.4   \n",
       "\n",
       "       DT Regression Predictions  RF Regression Predictions  \n",
       "10176                     4620.0                4819.390000  \n",
       "16083                     7109.0                7064.730000  \n",
       "13420                     5190.0                5275.160000  \n",
       "20407                    12477.0               11408.390000  \n",
       "8909                      4134.0                4772.430000  \n",
       "...                          ...                        ...  \n",
       "52283                     2442.0                2449.960000  \n",
       "10789                     4028.0                4410.300000  \n",
       "1190                      2721.0                3075.510667  \n",
       "3583                      2852.0                2863.190000  \n",
       "40845                     1251.0                1287.950000  \n",
       "\n",
       "[13485 rows x 5 columns]"
      ]
     },
     "execution_count": 41,
     "metadata": {},
     "output_type": "execute_result"
    }
   ],
   "source": [
    "output_df['RF Regression Predictions'] = y_test_pred\n",
    "\n",
    "output_df"
   ]
  },
  {
   "cell_type": "code",
   "execution_count": 42,
   "id": "5c226e0c-766e-4721-aaf2-b3698c0a9959",
   "metadata": {},
   "outputs": [
    {
     "name": "stderr",
     "output_type": "stream",
     "text": [
      "/opt/anaconda3/lib/python3.11/site-packages/seaborn/_oldcore.py:1119: FutureWarning: use_inf_as_na option is deprecated and will be removed in a future version. Convert inf values to NaN before operating instead.\n",
      "  with pd.option_context('mode.use_inf_as_na', True):\n",
      "/opt/anaconda3/lib/python3.11/site-packages/seaborn/_oldcore.py:1119: FutureWarning: use_inf_as_na option is deprecated and will be removed in a future version. Convert inf values to NaN before operating instead.\n",
      "  with pd.option_context('mode.use_inf_as_na', True):\n"
     ]
    },
    {
     "data": {
      "text/plain": [
       "<matplotlib.legend.Legend at 0x14ae07fd0>"
      ]
     },
     "execution_count": 42,
     "metadata": {},
     "output_type": "execute_result"
    },
    {
     "data": {
      "image/png": "[encoded data removed]",
      "text/plain": [
       "<Figure size 800x300 with 1 Axes>"
      ]
     },
     "metadata": {},
     "output_type": "display_data"
    }
   ],
   "source": [
    "fig, ax = plt.subplots(figsize=(8,3))\n",
    "\n",
    "sns.histplot(output_df['Actual'], color='blue', alpha=0.5, label=\"actual\")\n",
    "sns.histplot(output_df['RF Regression Predictions'], color='red', alpha=0.5, label=\"prediction\")\n",
    "\n",
    "plt.legend()"
   ]
  },
  {
   "cell_type": "markdown",
   "id": "4c439801-7862-4c4e-a45a-d46e05bbee98",
   "metadata": {},
   "source": [
    "## **Comparing all the Models**"
   ]
  },
  {
   "cell_type": "code",
   "execution_count": 43,
   "id": "a023c2bc-6cec-4146-afd0-8cb54b56e95d",
   "metadata": {},
   "outputs": [
    {
     "data": {
      "text/html": [
       "<div>\n",
       "<style scoped>\n",
       "    .dataframe tbody tr th:only-of-type {\n",
       "        vertical-align: middle;\n",
       "    }\n",
       "\n",
       "    .dataframe tbody tr th {\n",
       "        vertical-align: top;\n",
       "    }\n",
       "\n",
       "    .dataframe thead th {\n",
       "        text-align: right;\n",
       "    }\n",
       "</style>\n",
       "<table border=\"1\" class=\"dataframe\">\n",
       "  <thead>\n",
       "    <tr style=\"text-align: right;\">\n",
       "      <th></th>\n",
       "      <th>Model</th>\n",
       "      <th>Prediction</th>\n",
       "    </tr>\n",
       "  </thead>\n",
       "  <tbody>\n",
       "    <tr>\n",
       "      <th>0</th>\n",
       "      <td>Actual</td>\n",
       "      <td>4733.0</td>\n",
       "    </tr>\n",
       "    <tr>\n",
       "      <th>1</th>\n",
       "      <td>Actual</td>\n",
       "      <td>6424.0</td>\n",
       "    </tr>\n",
       "    <tr>\n",
       "      <th>2</th>\n",
       "      <td>Actual</td>\n",
       "      <td>5510.0</td>\n",
       "    </tr>\n",
       "    <tr>\n",
       "      <th>3</th>\n",
       "      <td>Actual</td>\n",
       "      <td>8770.0</td>\n",
       "    </tr>\n",
       "    <tr>\n",
       "      <th>4</th>\n",
       "      <td>Actual</td>\n",
       "      <td>4493.0</td>\n",
       "    </tr>\n",
       "  </tbody>\n",
       "</table>\n",
       "</div>"
      ],
      "text/plain": [
       "    Model  Prediction\n",
       "0  Actual      4733.0\n",
       "1  Actual      6424.0\n",
       "2  Actual      5510.0\n",
       "3  Actual      8770.0\n",
       "4  Actual      4493.0"
      ]
     },
     "execution_count": 43,
     "metadata": {},
     "output_type": "execute_result"
    }
   ],
   "source": [
    "df_melted = pd.melt(output_df,  var_name='Model', value_name='Prediction')\n",
    "\n",
    "df_melted.head()"
   ]
  },
  {
   "cell_type": "code",
   "execution_count": 44,
   "id": "7252b8c0-271d-42ea-a31f-7ce1c2a2f734",
   "metadata": {},
   "outputs": [
    {
     "data": {
      "image/png": "[encoded data removed]",
      "text/plain": [
       "<Figure size 800x300 with 1 Axes>"
      ]
     },
     "metadata": {},
     "output_type": "display_data"
    }
   ],
   "source": [
    "fig, ax = plt.subplots(figsize=(8,3))\n",
    "\n",
    "sns.boxplot(x='Prediction', y='Model', data=df_melted)\n",
    "plt.title('Comparison of Actual vs. Predicted Values')\n",
    "\n",
    "plt.show()"
   ]
  },
  {
   "cell_type": "markdown",
   "id": "c3610437",
   "metadata": {},
   "source": [
    "* Random Forest Regression performs the best in capturing the actual distribution of values, with minimal outliers and a well-aligned median.\n",
    "* Linear Regression struggles with outliers and overestimates the variability in prices.\n",
    "* KNN Regression underfits, failing to capture the full spread of the data.\n",
    "* Decision Tree Regression performs decently but may introduce slightly more noise compared to Random Forest."
   ]
  },
  {
   "cell_type": "code",
   "execution_count": null,
   "id": "0b132392",
   "metadata": {},
   "outputs": [],
   "source": []
  }
 ],
 "metadata": {
  "kernelspec": {
   "display_name": "Python 3 (ipykernel)",
   "language": "python",
   "name": "python3"
  },
  "language_info": {
   "codemirror_mode": {
    "name": "ipython",
    "version": 3
   },
   "file_extension": ".py",
   "mimetype": "text/x-python",
   "name": "python",
   "nbconvert_exporter": "python",
   "pygments_lexer": "ipython3",
   "version": "3.11.7"
  }
 },
 "nbformat": 4,
 "nbformat_minor": 5
}
